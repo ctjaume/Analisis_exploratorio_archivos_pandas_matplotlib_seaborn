{
 "cells": [
  {
   "cell_type": "code",
   "execution_count": 1,
   "metadata": {},
   "outputs": [],
   "source": [
    "import numpy as np\n",
    "import pandas as pd\n",
    "import matplotlib.pyplot as plt\n",
    "import seaborn as sns"
   ]
  },
  {
   "cell_type": "code",
   "execution_count": 2,
   "metadata": {},
   "outputs": [
    {
     "data": {
      "text/html": [
       "<div>\n",
       "<style scoped>\n",
       "    .dataframe tbody tr th:only-of-type {\n",
       "        vertical-align: middle;\n",
       "    }\n",
       "\n",
       "    .dataframe tbody tr th {\n",
       "        vertical-align: top;\n",
       "    }\n",
       "\n",
       "    .dataframe thead th {\n",
       "        text-align: right;\n",
       "    }\n",
       "</style>\n",
       "<table border=\"1\" class=\"dataframe\">\n",
       "  <thead>\n",
       "    <tr style=\"text-align: right;\">\n",
       "      <th></th>\n",
       "      <th>Unnamed: 0</th>\n",
       "      <th>edades</th>\n",
       "      <th>genero</th>\n",
       "      <th>salarios</th>\n",
       "      <th>paises</th>\n",
       "      <th>titulo_academico</th>\n",
       "      <th>puesto_trabajo</th>\n",
       "      <th>años_experiencia</th>\n",
       "      <th>sector_laboral</th>\n",
       "      <th>tamaños_empresa</th>\n",
       "      <th>lenguaje_programacion</th>\n",
       "    </tr>\n",
       "  </thead>\n",
       "  <tbody>\n",
       "    <tr>\n",
       "      <th>0</th>\n",
       "      <td>0</td>\n",
       "      <td>45-59</td>\n",
       "      <td>Hombre</td>\n",
       "      <td>bajo</td>\n",
       "      <td>Belgica</td>\n",
       "      <td>Grado Universitario</td>\n",
       "      <td>Data Analyst</td>\n",
       "      <td>20+ years</td>\n",
       "      <td>Energía/Minería</td>\n",
       "      <td>Grande</td>\n",
       "      <td>Python, SQL</td>\n",
       "    </tr>\n",
       "    <tr>\n",
       "      <th>1</th>\n",
       "      <td>1</td>\n",
       "      <td>18-29</td>\n",
       "      <td>No binario</td>\n",
       "      <td>No sabe/No contesta</td>\n",
       "      <td>Estados Unidos</td>\n",
       "      <td>Estudios Univertarios sin licenciatura</td>\n",
       "      <td>Data Analyst</td>\n",
       "      <td>&lt; 1 years</td>\n",
       "      <td>Fabricación</td>\n",
       "      <td>Mediana</td>\n",
       "      <td>R</td>\n",
       "    </tr>\n",
       "  </tbody>\n",
       "</table>\n",
       "</div>"
      ],
      "text/plain": [
       "   Unnamed: 0 edades      genero             salarios          paises  \\\n",
       "0           0  45-59      Hombre                 bajo         Belgica   \n",
       "1           1  18-29  No binario  No sabe/No contesta  Estados Unidos   \n",
       "\n",
       "                         titulo_academico puesto_trabajo años_experiencia  \\\n",
       "0                     Grado Universitario   Data Analyst        20+ years   \n",
       "1  Estudios Univertarios sin licenciatura   Data Analyst        < 1 years   \n",
       "\n",
       "    sector_laboral tamaños_empresa lenguaje_programacion  \n",
       "0  Energía/Minería          Grande           Python, SQL  \n",
       "1      Fabricación         Mediana                     R  "
      ]
     },
     "execution_count": 2,
     "metadata": {},
     "output_type": "execute_result"
    }
   ],
   "source": [
    "df = pd.read_csv('../datos/Dataframe_final.csv')\n",
    "df.head(2)"
   ]
  },
  {
   "cell_type": "code",
   "execution_count": 3,
   "metadata": {},
   "outputs": [],
   "source": [
    "df.drop(['Unnamed: 0'], axis = 1, inplace = True)"
   ]
  },
  {
   "cell_type": "code",
   "execution_count": 4,
   "metadata": {},
   "outputs": [
    {
     "data": {
      "text/html": [
       "<div>\n",
       "<style scoped>\n",
       "    .dataframe tbody tr th:only-of-type {\n",
       "        vertical-align: middle;\n",
       "    }\n",
       "\n",
       "    .dataframe tbody tr th {\n",
       "        vertical-align: top;\n",
       "    }\n",
       "\n",
       "    .dataframe thead th {\n",
       "        text-align: right;\n",
       "    }\n",
       "</style>\n",
       "<table border=\"1\" class=\"dataframe\">\n",
       "  <thead>\n",
       "    <tr style=\"text-align: right;\">\n",
       "      <th></th>\n",
       "      <th>edades</th>\n",
       "      <th>genero</th>\n",
       "      <th>salarios</th>\n",
       "      <th>paises</th>\n",
       "      <th>titulo_academico</th>\n",
       "      <th>puesto_trabajo</th>\n",
       "      <th>años_experiencia</th>\n",
       "      <th>sector_laboral</th>\n",
       "      <th>tamaños_empresa</th>\n",
       "      <th>lenguaje_programacion</th>\n",
       "    </tr>\n",
       "  </thead>\n",
       "  <tbody>\n",
       "    <tr>\n",
       "      <th>0</th>\n",
       "      <td>45-59</td>\n",
       "      <td>Hombre</td>\n",
       "      <td>bajo</td>\n",
       "      <td>Belgica</td>\n",
       "      <td>Grado Universitario</td>\n",
       "      <td>Data Analyst</td>\n",
       "      <td>20+ years</td>\n",
       "      <td>Energía/Minería</td>\n",
       "      <td>Grande</td>\n",
       "      <td>Python, SQL</td>\n",
       "    </tr>\n",
       "    <tr>\n",
       "      <th>1</th>\n",
       "      <td>18-29</td>\n",
       "      <td>No binario</td>\n",
       "      <td>No sabe/No contesta</td>\n",
       "      <td>Estados Unidos</td>\n",
       "      <td>Estudios Univertarios sin licenciatura</td>\n",
       "      <td>Data Analyst</td>\n",
       "      <td>&lt; 1 years</td>\n",
       "      <td>Fabricación</td>\n",
       "      <td>Mediana</td>\n",
       "      <td>R</td>\n",
       "    </tr>\n",
       "  </tbody>\n",
       "</table>\n",
       "</div>"
      ],
      "text/plain": [
       "  edades      genero             salarios          paises  \\\n",
       "0  45-59      Hombre                 bajo         Belgica   \n",
       "1  18-29  No binario  No sabe/No contesta  Estados Unidos   \n",
       "\n",
       "                         titulo_academico puesto_trabajo años_experiencia  \\\n",
       "0                     Grado Universitario   Data Analyst        20+ years   \n",
       "1  Estudios Univertarios sin licenciatura   Data Analyst        < 1 years   \n",
       "\n",
       "    sector_laboral tamaños_empresa lenguaje_programacion  \n",
       "0  Energía/Minería          Grande           Python, SQL  \n",
       "1      Fabricación         Mediana                     R  "
      ]
     },
     "execution_count": 4,
     "metadata": {},
     "output_type": "execute_result"
    }
   ],
   "source": [
    "df.head(2)"
   ]
  },
  {
   "cell_type": "code",
   "execution_count": 5,
   "metadata": {},
   "outputs": [
    {
     "data": {
      "text/plain": [
       "Data Analyst        2301\n",
       "Business Analyst     968\n",
       "Name: puesto_trabajo, dtype: int64"
      ]
     },
     "execution_count": 5,
     "metadata": {},
     "output_type": "execute_result"
    }
   ],
   "source": [
    "df['puesto_trabajo'].value_counts()"
   ]
  },
  {
   "cell_type": "markdown",
   "metadata": {},
   "source": [
    "### Filtramos por los puestos de trabajo que nos interesan"
   ]
  },
  {
   "cell_type": "code",
   "execution_count": 6,
   "metadata": {},
   "outputs": [
    {
     "data": {
      "text/html": [
       "<div>\n",
       "<style scoped>\n",
       "    .dataframe tbody tr th:only-of-type {\n",
       "        vertical-align: middle;\n",
       "    }\n",
       "\n",
       "    .dataframe tbody tr th {\n",
       "        vertical-align: top;\n",
       "    }\n",
       "\n",
       "    .dataframe thead th {\n",
       "        text-align: right;\n",
       "    }\n",
       "</style>\n",
       "<table border=\"1\" class=\"dataframe\">\n",
       "  <thead>\n",
       "    <tr style=\"text-align: right;\">\n",
       "      <th></th>\n",
       "      <th>edades</th>\n",
       "      <th>genero</th>\n",
       "      <th>salarios</th>\n",
       "      <th>paises</th>\n",
       "      <th>titulo_academico</th>\n",
       "      <th>puesto_trabajo</th>\n",
       "      <th>años_experiencia</th>\n",
       "      <th>sector_laboral</th>\n",
       "      <th>tamaños_empresa</th>\n",
       "      <th>lenguaje_programacion</th>\n",
       "    </tr>\n",
       "  </thead>\n",
       "  <tbody>\n",
       "    <tr>\n",
       "      <th>0</th>\n",
       "      <td>45-59</td>\n",
       "      <td>Hombre</td>\n",
       "      <td>bajo</td>\n",
       "      <td>Belgica</td>\n",
       "      <td>Grado Universitario</td>\n",
       "      <td>Data Analyst</td>\n",
       "      <td>20+ years</td>\n",
       "      <td>Energía/Minería</td>\n",
       "      <td>Grande</td>\n",
       "      <td>Python, SQL</td>\n",
       "    </tr>\n",
       "    <tr>\n",
       "      <th>1</th>\n",
       "      <td>18-29</td>\n",
       "      <td>No binario</td>\n",
       "      <td>No sabe/No contesta</td>\n",
       "      <td>Estados Unidos</td>\n",
       "      <td>Estudios Univertarios sin licenciatura</td>\n",
       "      <td>Data Analyst</td>\n",
       "      <td>&lt; 1 years</td>\n",
       "      <td>Fabricación</td>\n",
       "      <td>Mediana</td>\n",
       "      <td>R</td>\n",
       "    </tr>\n",
       "  </tbody>\n",
       "</table>\n",
       "</div>"
      ],
      "text/plain": [
       "  edades      genero             salarios          paises  \\\n",
       "0  45-59      Hombre                 bajo         Belgica   \n",
       "1  18-29  No binario  No sabe/No contesta  Estados Unidos   \n",
       "\n",
       "                         titulo_academico puesto_trabajo años_experiencia  \\\n",
       "0                     Grado Universitario   Data Analyst        20+ years   \n",
       "1  Estudios Univertarios sin licenciatura   Data Analyst        < 1 years   \n",
       "\n",
       "    sector_laboral tamaños_empresa lenguaje_programacion  \n",
       "0  Energía/Minería          Grande           Python, SQL  \n",
       "1      Fabricación         Mediana                     R  "
      ]
     },
     "execution_count": 6,
     "metadata": {},
     "output_type": "execute_result"
    }
   ],
   "source": [
    "# Filtramos por los dos puestos que nos interesan\n",
    "df_data = df[(df['puesto_trabajo'] == 'Data Analyst') | (df['puesto_trabajo'] == 'Business Analyst')]\n",
    "df_data.head(2)"
   ]
  },
  {
   "cell_type": "code",
   "execution_count": 7,
   "metadata": {},
   "outputs": [
    {
     "data": {
      "text/html": [
       "<div>\n",
       "<style scoped>\n",
       "    .dataframe tbody tr th:only-of-type {\n",
       "        vertical-align: middle;\n",
       "    }\n",
       "\n",
       "    .dataframe tbody tr th {\n",
       "        vertical-align: top;\n",
       "    }\n",
       "\n",
       "    .dataframe thead th {\n",
       "        text-align: right;\n",
       "    }\n",
       "</style>\n",
       "<table border=\"1\" class=\"dataframe\">\n",
       "  <thead>\n",
       "    <tr style=\"text-align: right;\">\n",
       "      <th></th>\n",
       "      <th>count</th>\n",
       "      <th>unique</th>\n",
       "      <th>top</th>\n",
       "      <th>freq</th>\n",
       "    </tr>\n",
       "  </thead>\n",
       "  <tbody>\n",
       "    <tr>\n",
       "      <th>edades</th>\n",
       "      <td>3269</td>\n",
       "      <td>4</td>\n",
       "      <td>18-29</td>\n",
       "      <td>1562</td>\n",
       "    </tr>\n",
       "    <tr>\n",
       "      <th>genero</th>\n",
       "      <td>3269</td>\n",
       "      <td>5</td>\n",
       "      <td>Hombre</td>\n",
       "      <td>2538</td>\n",
       "    </tr>\n",
       "    <tr>\n",
       "      <th>salarios</th>\n",
       "      <td>3269</td>\n",
       "      <td>4</td>\n",
       "      <td>bajo</td>\n",
       "      <td>1058</td>\n",
       "    </tr>\n",
       "    <tr>\n",
       "      <th>paises</th>\n",
       "      <td>3269</td>\n",
       "      <td>66</td>\n",
       "      <td>India</td>\n",
       "      <td>795</td>\n",
       "    </tr>\n",
       "    <tr>\n",
       "      <th>titulo_academico</th>\n",
       "      <td>3269</td>\n",
       "      <td>7</td>\n",
       "      <td>Master</td>\n",
       "      <td>1514</td>\n",
       "    </tr>\n",
       "    <tr>\n",
       "      <th>puesto_trabajo</th>\n",
       "      <td>3269</td>\n",
       "      <td>2</td>\n",
       "      <td>Data Analyst</td>\n",
       "      <td>2301</td>\n",
       "    </tr>\n",
       "    <tr>\n",
       "      <th>años_experiencia</th>\n",
       "      <td>3269</td>\n",
       "      <td>7</td>\n",
       "      <td>1-3 years</td>\n",
       "      <td>991</td>\n",
       "    </tr>\n",
       "    <tr>\n",
       "      <th>sector_laboral</th>\n",
       "      <td>3111</td>\n",
       "      <td>18</td>\n",
       "      <td>Tecnológico</td>\n",
       "      <td>550</td>\n",
       "    </tr>\n",
       "    <tr>\n",
       "      <th>tamaños_empresa</th>\n",
       "      <td>3269</td>\n",
       "      <td>6</td>\n",
       "      <td>Startup</td>\n",
       "      <td>908</td>\n",
       "    </tr>\n",
       "    <tr>\n",
       "      <th>lenguaje_programacion</th>\n",
       "      <td>3269</td>\n",
       "      <td>251</td>\n",
       "      <td>Python, SQL</td>\n",
       "      <td>622</td>\n",
       "    </tr>\n",
       "  </tbody>\n",
       "</table>\n",
       "</div>"
      ],
      "text/plain": [
       "                      count unique           top  freq\n",
       "edades                 3269      4         18-29  1562\n",
       "genero                 3269      5        Hombre  2538\n",
       "salarios               3269      4          bajo  1058\n",
       "paises                 3269     66         India   795\n",
       "titulo_academico       3269      7        Master  1514\n",
       "puesto_trabajo         3269      2  Data Analyst  2301\n",
       "años_experiencia       3269      7     1-3 years   991\n",
       "sector_laboral         3111     18   Tecnológico   550\n",
       "tamaños_empresa        3269      6       Startup   908\n",
       "lenguaje_programacion  3269    251   Python, SQL   622"
      ]
     },
     "execution_count": 7,
     "metadata": {},
     "output_type": "execute_result"
    }
   ],
   "source": [
    "df_data.describe().T"
   ]
  },
  {
   "cell_type": "code",
   "execution_count": 8,
   "metadata": {},
   "outputs": [
    {
     "data": {
      "text/plain": [
       "edades                   3269\n",
       "genero                   3269\n",
       "salarios                 3269\n",
       "paises                   3269\n",
       "titulo_academico         3269\n",
       "puesto_trabajo           3269\n",
       "años_experiencia         3269\n",
       "sector_laboral           3111\n",
       "tamaños_empresa          3269\n",
       "lenguaje_programacion    3269\n",
       "dtype: int64"
      ]
     },
     "execution_count": 8,
     "metadata": {},
     "output_type": "execute_result"
    }
   ],
   "source": [
    "df_data.notnull().sum()"
   ]
  },
  {
   "cell_type": "code",
   "execution_count": 9,
   "metadata": {},
   "outputs": [
    {
     "data": {
      "text/plain": [
       "array(['45-59', '18-29', '30-44', '60-70+'], dtype=object)"
      ]
     },
     "execution_count": 9,
     "metadata": {},
     "output_type": "execute_result"
    }
   ],
   "source": [
    "# Sacamos los uniques de columnas que creemos importantes\n",
    "df_data['edades'].unique()"
   ]
  },
  {
   "cell_type": "code",
   "execution_count": 10,
   "metadata": {},
   "outputs": [
    {
     "data": {
      "image/png": "[encoded data removed]",
      "text/plain": [
       "<Figure size 504x360 with 1 Axes>"
      ]
     },
     "metadata": {
      "needs_background": "light"
     },
     "output_type": "display_data"
    }
   ],
   "source": [
    "plt.figure(figsize=(7,5))\n",
    "\n",
    "fig = sns.countplot(y = 'edades', data = df_data)"
   ]
  },
  {
   "cell_type": "code",
   "execution_count": 11,
   "metadata": {},
   "outputs": [
    {
     "data": {
      "text/plain": [
       "array(['Belgica', 'Estados Unidos', 'Egipto', 'China', 'Sudafrica',\n",
       "       'Otros', 'India', 'Israel', 'Colombia', 'Austria', 'Brasil',\n",
       "       'Japon', 'Rusia', 'Ucrania', 'Pakistan', 'Canada', 'Nigeria',\n",
       "       'Mexico', 'Tunez', 'Italia', 'Polonia', 'España', 'Indonesia',\n",
       "       'Sri Lanka', 'Reino Unido', 'Turquia', 'Kenia', 'Iran',\n",
       "       'Corea del Sur', 'Peru', 'Vietnam', 'Emiratos Arabes', 'Alemania',\n",
       "       'Francia', 'Grecia', 'Taiwan', 'Portugal', 'Australia',\n",
       "       'Filipinas', 'Arabia Saudi', 'Singapur', 'Chile', 'Paises Bajos',\n",
       "       'Argentina', 'Ghana', 'Marruecos', 'Tailandia', 'Suiza',\n",
       "       'Hong Kong (S.A.R.)', 'Ecuador', 'Bangladesh', 'Malasia',\n",
       "       'Rumania', 'Noruega', 'Etiopia', 'Republica Checa',\n",
       "       'No deseo revelar mi ubicacion', 'Irlanda', 'Suecia', 'Kazakhstan',\n",
       "       'Iraq', 'Argelia', 'Dinamarca', 'Uganda', 'Bielorusia', 'Nepal'],\n",
       "      dtype=object)"
      ]
     },
     "execution_count": 11,
     "metadata": {},
     "output_type": "execute_result"
    }
   ],
   "source": [
    "df_data['paises'].unique()"
   ]
  },
  {
   "cell_type": "code",
   "execution_count": 12,
   "metadata": {},
   "outputs": [
    {
     "data": {
      "image/png": "[encoded data removed]",
      "text/plain": [
       "<Figure size 1080x1008 with 1 Axes>"
      ]
     },
     "metadata": {
      "needs_background": "light"
     },
     "output_type": "display_data"
    }
   ],
   "source": [
    "plt.figure(figsize=(15,14))\n",
    "\n",
    "fig = sns.countplot(y = 'paises', data = df_data)"
   ]
  },
  {
   "cell_type": "code",
   "execution_count": 13,
   "metadata": {},
   "outputs": [
    {
     "data": {
      "text/plain": [
       "array(['bajo', 'No sabe/No contesta', 'medio', 'alto'], dtype=object)"
      ]
     },
     "execution_count": 13,
     "metadata": {},
     "output_type": "execute_result"
    }
   ],
   "source": [
    "df_data['salarios'].unique()"
   ]
  },
  {
   "cell_type": "code",
   "execution_count": 14,
   "metadata": {},
   "outputs": [
    {
     "data": {
      "text/html": [
       "<div>\n",
       "<style scoped>\n",
       "    .dataframe tbody tr th:only-of-type {\n",
       "        vertical-align: middle;\n",
       "    }\n",
       "\n",
       "    .dataframe tbody tr th {\n",
       "        vertical-align: top;\n",
       "    }\n",
       "\n",
       "    .dataframe thead th {\n",
       "        text-align: right;\n",
       "    }\n",
       "</style>\n",
       "<table border=\"1\" class=\"dataframe\">\n",
       "  <thead>\n",
       "    <tr style=\"text-align: right;\">\n",
       "      <th></th>\n",
       "      <th>index</th>\n",
       "      <th>lenguaje_programacion</th>\n",
       "    </tr>\n",
       "  </thead>\n",
       "  <tbody>\n",
       "    <tr>\n",
       "      <th>0</th>\n",
       "      <td>Python, SQL</td>\n",
       "      <td>622</td>\n",
       "    </tr>\n",
       "    <tr>\n",
       "      <th>1</th>\n",
       "      <td>Python</td>\n",
       "      <td>481</td>\n",
       "    </tr>\n",
       "    <tr>\n",
       "      <th>2</th>\n",
       "      <td>Python, R, SQL</td>\n",
       "      <td>319</td>\n",
       "    </tr>\n",
       "    <tr>\n",
       "      <th>3</th>\n",
       "      <td>No sabe/No contesta</td>\n",
       "      <td>275</td>\n",
       "    </tr>\n",
       "    <tr>\n",
       "      <th>4</th>\n",
       "      <td>Python, R</td>\n",
       "      <td>140</td>\n",
       "    </tr>\n",
       "    <tr>\n",
       "      <th>...</th>\n",
       "      <td>...</td>\n",
       "      <td>...</td>\n",
       "    </tr>\n",
       "    <tr>\n",
       "      <th>246</th>\n",
       "      <td>Python, R, SQL, C, C++, Java, Javascript, Other</td>\n",
       "      <td>1</td>\n",
       "    </tr>\n",
       "    <tr>\n",
       "      <th>247</th>\n",
       "      <td>Python, R, Javascript, Bash</td>\n",
       "      <td>1</td>\n",
       "    </tr>\n",
       "    <tr>\n",
       "      <th>248</th>\n",
       "      <td>Python, C, C++, Java, Other</td>\n",
       "      <td>1</td>\n",
       "    </tr>\n",
       "    <tr>\n",
       "      <th>249</th>\n",
       "      <td>Python, R, SQL, Swift</td>\n",
       "      <td>1</td>\n",
       "    </tr>\n",
       "    <tr>\n",
       "      <th>250</th>\n",
       "      <td>Python, R, SQL, Java, Javascript, Other</td>\n",
       "      <td>1</td>\n",
       "    </tr>\n",
       "  </tbody>\n",
       "</table>\n",
       "<p>251 rows × 2 columns</p>\n",
       "</div>"
      ],
      "text/plain": [
       "                                               index  lenguaje_programacion\n",
       "0                                        Python, SQL                    622\n",
       "1                                             Python                    481\n",
       "2                                     Python, R, SQL                    319\n",
       "3                                No sabe/No contesta                    275\n",
       "4                                          Python, R                    140\n",
       "..                                               ...                    ...\n",
       "246  Python, R, SQL, C, C++, Java, Javascript, Other                      1\n",
       "247                      Python, R, Javascript, Bash                      1\n",
       "248                      Python, C, C++, Java, Other                      1\n",
       "249                            Python, R, SQL, Swift                      1\n",
       "250          Python, R, SQL, Java, Javascript, Other                      1\n",
       "\n",
       "[251 rows x 2 columns]"
      ]
     },
     "execution_count": 14,
     "metadata": {},
     "output_type": "execute_result"
    }
   ],
   "source": [
    "# Herramienta más usadas por Business Analyst y Data Analyst\n",
    "df_data['lenguaje_programacion'].value_counts().reset_index()"
   ]
  },
  {
   "cell_type": "code",
   "execution_count": 15,
   "metadata": {},
   "outputs": [
    {
     "data": {
      "text/html": [
       "<div>\n",
       "<style scoped>\n",
       "    .dataframe tbody tr th:only-of-type {\n",
       "        vertical-align: middle;\n",
       "    }\n",
       "\n",
       "    .dataframe tbody tr th {\n",
       "        vertical-align: top;\n",
       "    }\n",
       "\n",
       "    .dataframe thead th {\n",
       "        text-align: right;\n",
       "    }\n",
       "</style>\n",
       "<table border=\"1\" class=\"dataframe\">\n",
       "  <thead>\n",
       "    <tr style=\"text-align: right;\">\n",
       "      <th></th>\n",
       "      <th>index</th>\n",
       "      <th>genero</th>\n",
       "    </tr>\n",
       "  </thead>\n",
       "  <tbody>\n",
       "    <tr>\n",
       "      <th>0</th>\n",
       "      <td>Hombre</td>\n",
       "      <td>2538</td>\n",
       "    </tr>\n",
       "    <tr>\n",
       "      <th>1</th>\n",
       "      <td>Mujes</td>\n",
       "      <td>680</td>\n",
       "    </tr>\n",
       "    <tr>\n",
       "      <th>2</th>\n",
       "      <td>Prefiero no decirlo</td>\n",
       "      <td>38</td>\n",
       "    </tr>\n",
       "    <tr>\n",
       "      <th>3</th>\n",
       "      <td>No binario</td>\n",
       "      <td>8</td>\n",
       "    </tr>\n",
       "    <tr>\n",
       "      <th>4</th>\n",
       "      <td>Prefiero no describirme</td>\n",
       "      <td>5</td>\n",
       "    </tr>\n",
       "  </tbody>\n",
       "</table>\n",
       "</div>"
      ],
      "text/plain": [
       "                     index  genero\n",
       "0                   Hombre    2538\n",
       "1                    Mujes     680\n",
       "2      Prefiero no decirlo      38\n",
       "3               No binario       8\n",
       "4  Prefiero no describirme       5"
      ]
     },
     "execution_count": 15,
     "metadata": {},
     "output_type": "execute_result"
    }
   ],
   "source": [
    "# Número de hombres y mujeres en el registro Business Analyst y Data Analyst\n",
    "df_data['genero'].value_counts().reset_index()"
   ]
  },
  {
   "cell_type": "code",
   "execution_count": 16,
   "metadata": {},
   "outputs": [
    {
     "data": {
      "image/png": "[encoded data removed]",
      "text/plain": [
       "<Figure size 504x360 with 1 Axes>"
      ]
     },
     "metadata": {
      "needs_background": "light"
     },
     "output_type": "display_data"
    }
   ],
   "source": [
    "plt.figure(figsize=(7,5))\n",
    "\n",
    "fig = sns.countplot(y = 'genero', data = df_data)"
   ]
  },
  {
   "cell_type": "code",
   "execution_count": 17,
   "metadata": {},
   "outputs": [
    {
     "data": {
      "text/html": [
       "<div>\n",
       "<style scoped>\n",
       "    .dataframe tbody tr th:only-of-type {\n",
       "        vertical-align: middle;\n",
       "    }\n",
       "\n",
       "    .dataframe tbody tr th {\n",
       "        vertical-align: top;\n",
       "    }\n",
       "\n",
       "    .dataframe thead th {\n",
       "        text-align: right;\n",
       "    }\n",
       "</style>\n",
       "<table border=\"1\" class=\"dataframe\">\n",
       "  <thead>\n",
       "    <tr style=\"text-align: right;\">\n",
       "      <th></th>\n",
       "      <th>index</th>\n",
       "      <th>titulo_academico</th>\n",
       "    </tr>\n",
       "  </thead>\n",
       "  <tbody>\n",
       "    <tr>\n",
       "      <th>0</th>\n",
       "      <td>Master</td>\n",
       "      <td>1514</td>\n",
       "    </tr>\n",
       "    <tr>\n",
       "      <th>1</th>\n",
       "      <td>Grado Universitario</td>\n",
       "      <td>1212</td>\n",
       "    </tr>\n",
       "    <tr>\n",
       "      <th>2</th>\n",
       "      <td>Estudios Univertarios sin licenciatura</td>\n",
       "      <td>202</td>\n",
       "    </tr>\n",
       "    <tr>\n",
       "      <th>3</th>\n",
       "      <td>Doctorado</td>\n",
       "      <td>169</td>\n",
       "    </tr>\n",
       "    <tr>\n",
       "      <th>4</th>\n",
       "      <td>Prefiero no responder</td>\n",
       "      <td>83</td>\n",
       "    </tr>\n",
       "    <tr>\n",
       "      <th>5</th>\n",
       "      <td>Bachillerato</td>\n",
       "      <td>59</td>\n",
       "    </tr>\n",
       "    <tr>\n",
       "      <th>6</th>\n",
       "      <td>Doctorado Profesional</td>\n",
       "      <td>30</td>\n",
       "    </tr>\n",
       "  </tbody>\n",
       "</table>\n",
       "</div>"
      ],
      "text/plain": [
       "                                    index  titulo_academico\n",
       "0                                  Master              1514\n",
       "1                     Grado Universitario              1212\n",
       "2  Estudios Univertarios sin licenciatura               202\n",
       "3                               Doctorado               169\n",
       "4                   Prefiero no responder                83\n",
       "5                            Bachillerato                59\n",
       "6                   Doctorado Profesional                30"
      ]
     },
     "execution_count": 17,
     "metadata": {},
     "output_type": "execute_result"
    }
   ],
   "source": [
    "df_data['titulo_academico'].value_counts().reset_index()"
   ]
  },
  {
   "cell_type": "code",
   "execution_count": 18,
   "metadata": {},
   "outputs": [
    {
     "data": {
      "image/png": "[encoded data removed]",
      "text/plain": [
       "<Figure size 504x360 with 1 Axes>"
      ]
     },
     "metadata": {
      "needs_background": "light"
     },
     "output_type": "display_data"
    }
   ],
   "source": [
    "plt.figure(figsize=(7,5))\n",
    "\n",
    "fig = sns.countplot(y = 'titulo_academico', data = df_data)"
   ]
  },
  {
   "cell_type": "code",
   "execution_count": 19,
   "metadata": {},
   "outputs": [],
   "source": [
    "# Guardamos el dataframe en un archivo csv\n",
    "df_data.to_csv('../datos/Dataframe_filtrado2.csv')"
   ]
  }
 ],
 "metadata": {
  "kernelspec": {
   "display_name": "base",
   "language": "python",
   "name": "python3"
  },
  "language_info": {
   "codemirror_mode": {
    "name": "ipython",
    "version": 3
   },
   "file_extension": ".py",
   "mimetype": "text/x-python",
   "name": "python",
   "nbconvert_exporter": "python",
   "pygments_lexer": "ipython3",
   "version": "3.9.7"
  },
  "orig_nbformat": 4
 },
 "nbformat": 4,
 "nbformat_minor": 2
}

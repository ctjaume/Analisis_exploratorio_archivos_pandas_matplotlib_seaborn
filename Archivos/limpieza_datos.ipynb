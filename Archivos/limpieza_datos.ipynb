{
 "cells": [
  {
   "cell_type": "code",
   "execution_count": 1,
   "metadata": {},
   "outputs": [],
   "source": [
    "import pandas as pd\n",
    "import numpy as np\n",
    "import os\n",
    "import re"
   ]
  },
  {
   "cell_type": "code",
   "execution_count": 2,
   "metadata": {},
   "outputs": [
    {
     "data": {
      "text/html": [
       "<div>\n",
       "<style scoped>\n",
       "    .dataframe tbody tr th:only-of-type {\n",
       "        vertical-align: middle;\n",
       "    }\n",
       "\n",
       "    .dataframe tbody tr th {\n",
       "        vertical-align: top;\n",
       "    }\n",
       "\n",
       "    .dataframe thead th {\n",
       "        text-align: right;\n",
       "    }\n",
       "</style>\n",
       "<table border=\"1\" class=\"dataframe\">\n",
       "  <thead>\n",
       "    <tr style=\"text-align: right;\">\n",
       "      <th></th>\n",
       "      <th>edades</th>\n",
       "      <th>genero</th>\n",
       "      <th>salarios</th>\n",
       "      <th>paises</th>\n",
       "      <th>titulo_academico</th>\n",
       "      <th>puesto_trabajo</th>\n",
       "      <th>años_experiencia</th>\n",
       "      <th>sector_laboral</th>\n",
       "      <th>tamaños_empresa</th>\n",
       "      <th>lenguaje_programacion</th>\n",
       "    </tr>\n",
       "  </thead>\n",
       "  <tbody>\n",
       "    <tr>\n",
       "      <th>3187</th>\n",
       "      <td>45-59</td>\n",
       "      <td>Hombre</td>\n",
       "      <td>No sabe/No contesta</td>\n",
       "      <td>Emiratos Arabes</td>\n",
       "      <td>Master</td>\n",
       "      <td>Data Analyst</td>\n",
       "      <td>1-3 years</td>\n",
       "      <td>Académico/Educación</td>\n",
       "      <td>Startup</td>\n",
       "      <td>Python, SQL, C++, Other</td>\n",
       "    </tr>\n",
       "  </tbody>\n",
       "</table>\n",
       "</div>"
      ],
      "text/plain": [
       "     edades  genero             salarios           paises titulo_academico  \\\n",
       "3187  45-59  Hombre  No sabe/No contesta  Emiratos Arabes           Master   \n",
       "\n",
       "     puesto_trabajo años_experiencia       sector_laboral tamaños_empresa  \\\n",
       "3187   Data Analyst        1-3 years  Académico/Educación         Startup   \n",
       "\n",
       "        lenguaje_programacion  \n",
       "3187  Python, SQL, C++, Other  "
      ]
     },
     "execution_count": 2,
     "metadata": {},
     "output_type": "execute_result"
    }
   ],
   "source": [
    "df = pd.read_csv('../datos/Dataframe_filtrado2.csv', index_col= 0)\n",
    "df.sample()"
   ]
  },
  {
   "cell_type": "code",
   "execution_count": 3,
   "metadata": {},
   "outputs": [],
   "source": [
    "# Función con todas las propiedades para hacer una exploración inicial de los dataframes.\n",
    "def df_exploracion(dataframe):\n",
    "     \"\"\"\n",
    "     Esta función realiza una exploración del dataframe\n",
    "     Args: dataframe (recibe un parámetro que es el dataframe a explorar).\n",
    "     Return: None\n",
    "     \"\"\"\n",
    "     print(f\"Tamaño del DataFrame: {dataframe.size}\")\n",
    "     print(\"---------\")\n",
    "     print(f\"(El número de filas y columnas del DataFrame: {dataframe.shape}\")\n",
    "     print(\"----------\")\n",
    "     print(f\"Descripción estadística del DataFrame:\")\n",
    "     display(dataframe.describe())\n",
    "     print(\"--------\")\n",
    "     print(f\"Información general del DataFrame:\")\n",
    "     display(dataframe.info())\n",
    "     print(\"--------\")\n",
    "     print(f\"Las columnas de este DataFrame son {dataframe.columns}\")\n",
    "     print(\"----------\")\n",
    "     print(f\"Tipo de dato de las columnas de este DataFrame:{dataframe.dtypes}\")"
   ]
  },
  {
   "cell_type": "code",
   "execution_count": 4,
   "metadata": {},
   "outputs": [
    {
     "name": "stdout",
     "output_type": "stream",
     "text": [
      "Tamaño del DataFrame: 32690\n",
      "---------\n",
      "(El número de filas y columnas del DataFrame: (3269, 10)\n",
      "----------\n",
      "Descripción estadística del DataFrame:\n"
     ]
    },
    {
     "data": {
      "text/html": [
       "<div>\n",
       "<style scoped>\n",
       "    .dataframe tbody tr th:only-of-type {\n",
       "        vertical-align: middle;\n",
       "    }\n",
       "\n",
       "    .dataframe tbody tr th {\n",
       "        vertical-align: top;\n",
       "    }\n",
       "\n",
       "    .dataframe thead th {\n",
       "        text-align: right;\n",
       "    }\n",
       "</style>\n",
       "<table border=\"1\" class=\"dataframe\">\n",
       "  <thead>\n",
       "    <tr style=\"text-align: right;\">\n",
       "      <th></th>\n",
       "      <th>edades</th>\n",
       "      <th>genero</th>\n",
       "      <th>salarios</th>\n",
       "      <th>paises</th>\n",
       "      <th>titulo_academico</th>\n",
       "      <th>puesto_trabajo</th>\n",
       "      <th>años_experiencia</th>\n",
       "      <th>sector_laboral</th>\n",
       "      <th>tamaños_empresa</th>\n",
       "      <th>lenguaje_programacion</th>\n",
       "    </tr>\n",
       "  </thead>\n",
       "  <tbody>\n",
       "    <tr>\n",
       "      <th>count</th>\n",
       "      <td>3269</td>\n",
       "      <td>3269</td>\n",
       "      <td>3269</td>\n",
       "      <td>3269</td>\n",
       "      <td>3269</td>\n",
       "      <td>3269</td>\n",
       "      <td>3269</td>\n",
       "      <td>3111</td>\n",
       "      <td>3269</td>\n",
       "      <td>3269</td>\n",
       "    </tr>\n",
       "    <tr>\n",
       "      <th>unique</th>\n",
       "      <td>4</td>\n",
       "      <td>5</td>\n",
       "      <td>4</td>\n",
       "      <td>66</td>\n",
       "      <td>7</td>\n",
       "      <td>2</td>\n",
       "      <td>7</td>\n",
       "      <td>18</td>\n",
       "      <td>6</td>\n",
       "      <td>251</td>\n",
       "    </tr>\n",
       "    <tr>\n",
       "      <th>top</th>\n",
       "      <td>18-29</td>\n",
       "      <td>Hombre</td>\n",
       "      <td>bajo</td>\n",
       "      <td>India</td>\n",
       "      <td>Master</td>\n",
       "      <td>Data Analyst</td>\n",
       "      <td>1-3 years</td>\n",
       "      <td>Tecnológico</td>\n",
       "      <td>Startup</td>\n",
       "      <td>Python, SQL</td>\n",
       "    </tr>\n",
       "    <tr>\n",
       "      <th>freq</th>\n",
       "      <td>1562</td>\n",
       "      <td>2538</td>\n",
       "      <td>1058</td>\n",
       "      <td>795</td>\n",
       "      <td>1514</td>\n",
       "      <td>2301</td>\n",
       "      <td>991</td>\n",
       "      <td>550</td>\n",
       "      <td>908</td>\n",
       "      <td>622</td>\n",
       "    </tr>\n",
       "  </tbody>\n",
       "</table>\n",
       "</div>"
      ],
      "text/plain": [
       "       edades  genero salarios paises titulo_academico puesto_trabajo  \\\n",
       "count    3269    3269     3269   3269             3269           3269   \n",
       "unique      4       5        4     66                7              2   \n",
       "top     18-29  Hombre     bajo  India           Master   Data Analyst   \n",
       "freq     1562    2538     1058    795             1514           2301   \n",
       "\n",
       "       años_experiencia sector_laboral tamaños_empresa lenguaje_programacion  \n",
       "count              3269           3111            3269                  3269  \n",
       "unique                7             18               6                   251  \n",
       "top           1-3 years    Tecnológico         Startup           Python, SQL  \n",
       "freq                991            550             908                   622  "
      ]
     },
     "metadata": {},
     "output_type": "display_data"
    },
    {
     "name": "stdout",
     "output_type": "stream",
     "text": [
      "--------\n",
      "Información general del DataFrame:\n",
      "<class 'pandas.core.frame.DataFrame'>\n",
      "Int64Index: 3269 entries, 0 to 3268\n",
      "Data columns (total 10 columns):\n",
      " #   Column                 Non-Null Count  Dtype \n",
      "---  ------                 --------------  ----- \n",
      " 0   edades                 3269 non-null   object\n",
      " 1   genero                 3269 non-null   object\n",
      " 2   salarios               3269 non-null   object\n",
      " 3   paises                 3269 non-null   object\n",
      " 4   titulo_academico       3269 non-null   object\n",
      " 5   puesto_trabajo         3269 non-null   object\n",
      " 6   años_experiencia       3269 non-null   object\n",
      " 7   sector_laboral         3111 non-null   object\n",
      " 8   tamaños_empresa        3269 non-null   object\n",
      " 9   lenguaje_programacion  3269 non-null   object\n",
      "dtypes: object(10)\n",
      "memory usage: 280.9+ KB\n"
     ]
    },
    {
     "data": {
      "text/plain": [
       "None"
      ]
     },
     "metadata": {},
     "output_type": "display_data"
    },
    {
     "name": "stdout",
     "output_type": "stream",
     "text": [
      "--------\n",
      "Las columnas de este DataFrame son Index(['edades', 'genero', 'salarios', 'paises', 'titulo_academico',\n",
      "       'puesto_trabajo', 'años_experiencia', 'sector_laboral',\n",
      "       'tamaños_empresa', 'lenguaje_programacion'],\n",
      "      dtype='object')\n",
      "----------\n",
      "Tipo de dato de las columnas de este DataFrame:edades                   object\n",
      "genero                   object\n",
      "salarios                 object\n",
      "paises                   object\n",
      "titulo_academico         object\n",
      "puesto_trabajo           object\n",
      "años_experiencia         object\n",
      "sector_laboral           object\n",
      "tamaños_empresa          object\n",
      "lenguaje_programacion    object\n",
      "dtype: object\n"
     ]
    }
   ],
   "source": [
    "df_exploracion(df)"
   ]
  },
  {
   "cell_type": "markdown",
   "metadata": {},
   "source": [
    "### Antes de categorizar imputamos los valores nulos"
   ]
  },
  {
   "cell_type": "code",
   "execution_count": 5,
   "metadata": {},
   "outputs": [],
   "source": [
    "columnas = [\"edades\", \"genero\", \"puesto_trabajo\", \"tamaños_empresa\", \"salarios\", \"lenguaje_programacion\"]"
   ]
  },
  {
   "cell_type": "code",
   "execution_count": 6,
   "metadata": {},
   "outputs": [],
   "source": [
    "# Categorizamos las filas nan por No sabe/No contesta.\n",
    "for col in columnas:\n",
    "    df[col].replace(np.nan, \"No sabe/No contesta\", inplace = True)"
   ]
  },
  {
   "cell_type": "code",
   "execution_count": 7,
   "metadata": {},
   "outputs": [
    {
     "data": {
      "text/plain": [
       "edades                   0.000000\n",
       "genero                   0.000000\n",
       "salarios                 0.000000\n",
       "paises                   0.000000\n",
       "titulo_academico         0.000000\n",
       "puesto_trabajo           0.000000\n",
       "años_experiencia         0.000000\n",
       "sector_laboral           4.833282\n",
       "tamaños_empresa          0.000000\n",
       "lenguaje_programacion    0.000000\n",
       "dtype: float64"
      ]
     },
     "execution_count": 7,
     "metadata": {},
     "output_type": "execute_result"
    }
   ],
   "source": [
    "df.isnull().sum()*100 / df.shape[0]"
   ]
  },
  {
   "cell_type": "markdown",
   "metadata": {},
   "source": [
    "### Categorizamos las columnas que vamos a necesitar para responder a nuestras preguntas"
   ]
  },
  {
   "cell_type": "markdown",
   "metadata": {},
   "source": [
    "- Columna salario"
   ]
  },
  {
   "cell_type": "code",
   "execution_count": 8,
   "metadata": {},
   "outputs": [],
   "source": [
    "categoria_sueldo = df[\"salarios\"].unique()"
   ]
  },
  {
   "cell_type": "code",
   "execution_count": 9,
   "metadata": {},
   "outputs": [],
   "source": [
    "df[\"salarios\"].replace(r\",\", \".\",regex = True, inplace= True)"
   ]
  },
  {
   "cell_type": "code",
   "execution_count": 10,
   "metadata": {},
   "outputs": [
    {
     "data": {
      "text/plain": [
       "array(['bajo', 'No sabe/No contesta', 'medio', 'alto'], dtype=object)"
      ]
     },
     "execution_count": 10,
     "metadata": {},
     "output_type": "execute_result"
    }
   ],
   "source": [
    "df[\"salarios\"].unique()"
   ]
  },
  {
   "cell_type": "code",
   "execution_count": 11,
   "metadata": {},
   "outputs": [
    {
     "data": {
      "text/plain": [
       "bajo                   1058\n",
       "No sabe/No contesta    1024\n",
       "alto                    740\n",
       "medio                   447\n",
       "Name: salarios, dtype: int64"
      ]
     },
     "execution_count": 11,
     "metadata": {},
     "output_type": "execute_result"
    }
   ],
   "source": [
    "df[\"salarios\"].value_counts()"
   ]
  },
  {
   "cell_type": "code",
   "execution_count": 12,
   "metadata": {},
   "outputs": [],
   "source": [
    "salario_junior = ['0-999', '1.000-1.999', '10.000-14.999',\n",
    "        '5.000-7.499', '2.000-2.999', '7.500-9.999','4.000-4.999', '3.000-3.999'\n",
    "    ]"
   ]
  },
  {
   "cell_type": "code",
   "execution_count": 13,
   "metadata": {},
   "outputs": [],
   "source": [
    "salario_mid = [ '30.000-39.999', '20.000-24.999', \n",
    "        '15.000-19.999',  '25.000-29.999', \n",
    "    ]"
   ]
  },
  {
   "cell_type": "code",
   "execution_count": 14,
   "metadata": {},
   "outputs": [],
   "source": [
    "salario_senior = [ '100.000-124.999','50.000-59.999', '40.000-49.999','60.000-69.999', '70.000-79.999',\n",
    "        '150.000-199.999', '80.000-89.999', '125.000-149.999',\n",
    "        '90.000-99.999', '200.000-249.999', '300.000-499.999', '250.000-299.999',\n",
    "        '>$1.000.000', '$500.000-999.999'\n",
    "    ]"
   ]
  },
  {
   "cell_type": "code",
   "execution_count": 15,
   "metadata": {},
   "outputs": [
    {
     "data": {
      "text/plain": [
       "array(['bajo', 'No sabe/No contesta', 'medio', 'alto'], dtype=object)"
      ]
     },
     "execution_count": 15,
     "metadata": {},
     "output_type": "execute_result"
    }
   ],
   "source": [
    "df[\"salarios\"].unique()"
   ]
  },
  {
   "cell_type": "code",
   "execution_count": 16,
   "metadata": {},
   "outputs": [],
   "source": [
    "def cat_salarios(salario):\n",
    "    dicti = {\"0-14K\": salario_junior, \"15K-39K\": salario_mid, \"+40K\": salario_senior}\n",
    "    resultado = \"No sabe/No contesta\" \n",
    "\n",
    "    for k, v in dicti.items():\n",
    "        if salario in v:\n",
    "            resultado = k\n",
    "            \n",
    "    return resultado"
   ]
  },
  {
   "cell_type": "code",
   "execution_count": 17,
   "metadata": {},
   "outputs": [
    {
     "data": {
      "text/plain": [
       "0       No sabe/No contesta\n",
       "1       No sabe/No contesta\n",
       "2       No sabe/No contesta\n",
       "3       No sabe/No contesta\n",
       "4       No sabe/No contesta\n",
       "               ...         \n",
       "3264    No sabe/No contesta\n",
       "3265    No sabe/No contesta\n",
       "3266    No sabe/No contesta\n",
       "3267    No sabe/No contesta\n",
       "3268    No sabe/No contesta\n",
       "Name: salarios, Length: 3269, dtype: object"
      ]
     },
     "execution_count": 17,
     "metadata": {},
     "output_type": "execute_result"
    }
   ],
   "source": [
    "df[\"salarios\"].apply(cat_salarios)\n"
   ]
  },
  {
   "cell_type": "code",
   "execution_count": 18,
   "metadata": {},
   "outputs": [
    {
     "data": {
      "text/html": [
       "<div>\n",
       "<style scoped>\n",
       "    .dataframe tbody tr th:only-of-type {\n",
       "        vertical-align: middle;\n",
       "    }\n",
       "\n",
       "    .dataframe tbody tr th {\n",
       "        vertical-align: top;\n",
       "    }\n",
       "\n",
       "    .dataframe thead th {\n",
       "        text-align: right;\n",
       "    }\n",
       "</style>\n",
       "<table border=\"1\" class=\"dataframe\">\n",
       "  <thead>\n",
       "    <tr style=\"text-align: right;\">\n",
       "      <th></th>\n",
       "      <th>edades</th>\n",
       "      <th>genero</th>\n",
       "      <th>salarios</th>\n",
       "      <th>paises</th>\n",
       "      <th>titulo_academico</th>\n",
       "      <th>puesto_trabajo</th>\n",
       "      <th>años_experiencia</th>\n",
       "      <th>sector_laboral</th>\n",
       "      <th>tamaños_empresa</th>\n",
       "      <th>lenguaje_programacion</th>\n",
       "    </tr>\n",
       "  </thead>\n",
       "  <tbody>\n",
       "    <tr>\n",
       "      <th>0</th>\n",
       "      <td>45-59</td>\n",
       "      <td>Hombre</td>\n",
       "      <td>bajo</td>\n",
       "      <td>Belgica</td>\n",
       "      <td>Grado Universitario</td>\n",
       "      <td>Data Analyst</td>\n",
       "      <td>20+ years</td>\n",
       "      <td>Energía/Minería</td>\n",
       "      <td>Grande</td>\n",
       "      <td>Python, SQL</td>\n",
       "    </tr>\n",
       "    <tr>\n",
       "      <th>1</th>\n",
       "      <td>18-29</td>\n",
       "      <td>No binario</td>\n",
       "      <td>No sabe/No contesta</td>\n",
       "      <td>Estados Unidos</td>\n",
       "      <td>Estudios Univertarios sin licenciatura</td>\n",
       "      <td>Data Analyst</td>\n",
       "      <td>&lt; 1 years</td>\n",
       "      <td>Fabricación</td>\n",
       "      <td>Mediana</td>\n",
       "      <td>R</td>\n",
       "    </tr>\n",
       "    <tr>\n",
       "      <th>2</th>\n",
       "      <td>30-44</td>\n",
       "      <td>Mujes</td>\n",
       "      <td>bajo</td>\n",
       "      <td>Egipto</td>\n",
       "      <td>Grado Universitario</td>\n",
       "      <td>Data Analyst</td>\n",
       "      <td>3-5 years</td>\n",
       "      <td>ONG/Servicio</td>\n",
       "      <td>Startup</td>\n",
       "      <td>Python</td>\n",
       "    </tr>\n",
       "    <tr>\n",
       "      <th>3</th>\n",
       "      <td>18-29</td>\n",
       "      <td>Hombre</td>\n",
       "      <td>No sabe/No contesta</td>\n",
       "      <td>China</td>\n",
       "      <td>Estudios Univertarios sin licenciatura</td>\n",
       "      <td>Data Analyst</td>\n",
       "      <td>&lt; 1 years</td>\n",
       "      <td>Tecnológico</td>\n",
       "      <td>Startup</td>\n",
       "      <td>Python, SQL, C, C++, Java, Javascript, MATLAB</td>\n",
       "    </tr>\n",
       "    <tr>\n",
       "      <th>4</th>\n",
       "      <td>30-44</td>\n",
       "      <td>Hombre</td>\n",
       "      <td>medio</td>\n",
       "      <td>Sudafrica</td>\n",
       "      <td>Master</td>\n",
       "      <td>Data Analyst</td>\n",
       "      <td>1-3 years</td>\n",
       "      <td>Fabricación</td>\n",
       "      <td>Mediana</td>\n",
       "      <td>R, SQL</td>\n",
       "    </tr>\n",
       "  </tbody>\n",
       "</table>\n",
       "</div>"
      ],
      "text/plain": [
       "  edades      genero             salarios          paises  \\\n",
       "0  45-59      Hombre                 bajo         Belgica   \n",
       "1  18-29  No binario  No sabe/No contesta  Estados Unidos   \n",
       "2  30-44       Mujes                 bajo          Egipto   \n",
       "3  18-29      Hombre  No sabe/No contesta           China   \n",
       "4  30-44      Hombre                medio       Sudafrica   \n",
       "\n",
       "                         titulo_academico puesto_trabajo años_experiencia  \\\n",
       "0                     Grado Universitario   Data Analyst        20+ years   \n",
       "1  Estudios Univertarios sin licenciatura   Data Analyst        < 1 years   \n",
       "2                     Grado Universitario   Data Analyst        3-5 years   \n",
       "3  Estudios Univertarios sin licenciatura   Data Analyst        < 1 years   \n",
       "4                                  Master   Data Analyst        1-3 years   \n",
       "\n",
       "    sector_laboral tamaños_empresa  \\\n",
       "0  Energía/Minería          Grande   \n",
       "1      Fabricación         Mediana   \n",
       "2     ONG/Servicio         Startup   \n",
       "3      Tecnológico         Startup   \n",
       "4      Fabricación         Mediana   \n",
       "\n",
       "                           lenguaje_programacion  \n",
       "0                                    Python, SQL  \n",
       "1                                              R  \n",
       "2                                         Python  \n",
       "3  Python, SQL, C, C++, Java, Javascript, MATLAB  \n",
       "4                                         R, SQL  "
      ]
     },
     "execution_count": 18,
     "metadata": {},
     "output_type": "execute_result"
    }
   ],
   "source": [
    "df.head()"
   ]
  },
  {
   "cell_type": "code",
   "execution_count": 19,
   "metadata": {},
   "outputs": [
    {
     "data": {
      "text/plain": [
       "array(['bajo', 'No sabe/No contesta', 'medio', 'alto'], dtype=object)"
      ]
     },
     "execution_count": 19,
     "metadata": {},
     "output_type": "execute_result"
    }
   ],
   "source": [
    "df[\"salarios\"].unique()"
   ]
  },
  {
   "cell_type": "markdown",
   "metadata": {},
   "source": [
    "- Columna tamaño_empresa"
   ]
  },
  {
   "cell_type": "code",
   "execution_count": 20,
   "metadata": {},
   "outputs": [
    {
     "data": {
      "text/plain": [
       "array(['Grande', 'Mediana', 'Startup', 'Pequeña', 'Multinacional',\n",
       "       'No sabe/No contesta'], dtype=object)"
      ]
     },
     "execution_count": 20,
     "metadata": {},
     "output_type": "execute_result"
    }
   ],
   "source": [
    "df[\"tamaños_empresa\"].unique()"
   ]
  },
  {
   "cell_type": "code",
   "execution_count": 21,
   "metadata": {},
   "outputs": [
    {
     "data": {
      "text/plain": [
       "Startup                908\n",
       "Multinacional          693\n",
       "Grande                 589\n",
       "Pequeña                495\n",
       "Mediana                407\n",
       "No sabe/No contesta    177\n",
       "Name: tamaños_empresa, dtype: int64"
      ]
     },
     "execution_count": 21,
     "metadata": {},
     "output_type": "execute_result"
    }
   ],
   "source": [
    "df[\"tamaños_empresa\"].value_counts()"
   ]
  },
  {
   "cell_type": "code",
   "execution_count": 22,
   "metadata": {},
   "outputs": [],
   "source": [
    "def cat_empresa(tamaño_empresa):\n",
    "    if tamaño_empresa ==  \"0-49 employees\":\n",
    "        return \"Startup\"\n",
    "    elif tamaño_empresa ==  \"50-249 employees\":\n",
    "        return \"Pequeña\"\n",
    "    elif tamaño_empresa ==  \"250-999 employees\":\n",
    "        return \"Mediana\"\n",
    "    elif tamaño_empresa ==  \"1000-9,999 employees\":\n",
    "        return \"Grande\"\n",
    "    elif tamaño_empresa ==  \"10,000 or more employees\":\n",
    "        return \"Multinacional\"\n",
    "    elif tamaño_empresa == \"No sabe/No contesta\":\n",
    "        return \"No sabe/No contesta\"\n",
    "  "
   ]
  },
  {
   "cell_type": "code",
   "execution_count": 23,
   "metadata": {},
   "outputs": [
    {
     "data": {
      "text/plain": [
       "0                      None\n",
       "1                      None\n",
       "2                      None\n",
       "3                      None\n",
       "4                      None\n",
       "               ...         \n",
       "3264                   None\n",
       "3265    No sabe/No contesta\n",
       "3266                   None\n",
       "3267                   None\n",
       "3268                   None\n",
       "Name: tamaños_empresa, Length: 3269, dtype: object"
      ]
     },
     "execution_count": 23,
     "metadata": {},
     "output_type": "execute_result"
    }
   ],
   "source": [
    "df[\"tamaños_empresa\"].apply(cat_empresa)"
   ]
  },
  {
   "cell_type": "code",
   "execution_count": 24,
   "metadata": {},
   "outputs": [],
   "source": [
    "df[\"tamaños_empresa\"].replace(\"None\", \"No sabe/No contesta\", inplace= True)"
   ]
  },
  {
   "cell_type": "code",
   "execution_count": 25,
   "metadata": {},
   "outputs": [
    {
     "data": {
      "text/plain": [
       "array(['Grande', 'Mediana', 'Startup', 'Pequeña', 'Multinacional',\n",
       "       'No sabe/No contesta'], dtype=object)"
      ]
     },
     "execution_count": 25,
     "metadata": {},
     "output_type": "execute_result"
    }
   ],
   "source": [
    "\n",
    "df[\"tamaños_empresa\"].unique()"
   ]
  },
  {
   "cell_type": "code",
   "execution_count": 26,
   "metadata": {},
   "outputs": [
    {
     "data": {
      "text/html": [
       "<div>\n",
       "<style scoped>\n",
       "    .dataframe tbody tr th:only-of-type {\n",
       "        vertical-align: middle;\n",
       "    }\n",
       "\n",
       "    .dataframe tbody tr th {\n",
       "        vertical-align: top;\n",
       "    }\n",
       "\n",
       "    .dataframe thead th {\n",
       "        text-align: right;\n",
       "    }\n",
       "</style>\n",
       "<table border=\"1\" class=\"dataframe\">\n",
       "  <thead>\n",
       "    <tr style=\"text-align: right;\">\n",
       "      <th></th>\n",
       "      <th>edades</th>\n",
       "      <th>genero</th>\n",
       "      <th>salarios</th>\n",
       "      <th>paises</th>\n",
       "      <th>titulo_academico</th>\n",
       "      <th>puesto_trabajo</th>\n",
       "      <th>años_experiencia</th>\n",
       "      <th>sector_laboral</th>\n",
       "      <th>tamaños_empresa</th>\n",
       "      <th>lenguaje_programacion</th>\n",
       "    </tr>\n",
       "  </thead>\n",
       "  <tbody>\n",
       "    <tr>\n",
       "      <th>0</th>\n",
       "      <td>45-59</td>\n",
       "      <td>Hombre</td>\n",
       "      <td>bajo</td>\n",
       "      <td>Belgica</td>\n",
       "      <td>Grado Universitario</td>\n",
       "      <td>Data Analyst</td>\n",
       "      <td>20+ years</td>\n",
       "      <td>Energía/Minería</td>\n",
       "      <td>Grande</td>\n",
       "      <td>Python, SQL</td>\n",
       "    </tr>\n",
       "    <tr>\n",
       "      <th>1</th>\n",
       "      <td>18-29</td>\n",
       "      <td>No binario</td>\n",
       "      <td>No sabe/No contesta</td>\n",
       "      <td>Estados Unidos</td>\n",
       "      <td>Estudios Univertarios sin licenciatura</td>\n",
       "      <td>Data Analyst</td>\n",
       "      <td>&lt; 1 years</td>\n",
       "      <td>Fabricación</td>\n",
       "      <td>Mediana</td>\n",
       "      <td>R</td>\n",
       "    </tr>\n",
       "    <tr>\n",
       "      <th>2</th>\n",
       "      <td>30-44</td>\n",
       "      <td>Mujes</td>\n",
       "      <td>bajo</td>\n",
       "      <td>Egipto</td>\n",
       "      <td>Grado Universitario</td>\n",
       "      <td>Data Analyst</td>\n",
       "      <td>3-5 years</td>\n",
       "      <td>ONG/Servicio</td>\n",
       "      <td>Startup</td>\n",
       "      <td>Python</td>\n",
       "    </tr>\n",
       "    <tr>\n",
       "      <th>3</th>\n",
       "      <td>18-29</td>\n",
       "      <td>Hombre</td>\n",
       "      <td>No sabe/No contesta</td>\n",
       "      <td>China</td>\n",
       "      <td>Estudios Univertarios sin licenciatura</td>\n",
       "      <td>Data Analyst</td>\n",
       "      <td>&lt; 1 years</td>\n",
       "      <td>Tecnológico</td>\n",
       "      <td>Startup</td>\n",
       "      <td>Python, SQL, C, C++, Java, Javascript, MATLAB</td>\n",
       "    </tr>\n",
       "    <tr>\n",
       "      <th>4</th>\n",
       "      <td>30-44</td>\n",
       "      <td>Hombre</td>\n",
       "      <td>medio</td>\n",
       "      <td>Sudafrica</td>\n",
       "      <td>Master</td>\n",
       "      <td>Data Analyst</td>\n",
       "      <td>1-3 years</td>\n",
       "      <td>Fabricación</td>\n",
       "      <td>Mediana</td>\n",
       "      <td>R, SQL</td>\n",
       "    </tr>\n",
       "  </tbody>\n",
       "</table>\n",
       "</div>"
      ],
      "text/plain": [
       "  edades      genero             salarios          paises  \\\n",
       "0  45-59      Hombre                 bajo         Belgica   \n",
       "1  18-29  No binario  No sabe/No contesta  Estados Unidos   \n",
       "2  30-44       Mujes                 bajo          Egipto   \n",
       "3  18-29      Hombre  No sabe/No contesta           China   \n",
       "4  30-44      Hombre                medio       Sudafrica   \n",
       "\n",
       "                         titulo_academico puesto_trabajo años_experiencia  \\\n",
       "0                     Grado Universitario   Data Analyst        20+ years   \n",
       "1  Estudios Univertarios sin licenciatura   Data Analyst        < 1 years   \n",
       "2                     Grado Universitario   Data Analyst        3-5 years   \n",
       "3  Estudios Univertarios sin licenciatura   Data Analyst        < 1 years   \n",
       "4                                  Master   Data Analyst        1-3 years   \n",
       "\n",
       "    sector_laboral tamaños_empresa  \\\n",
       "0  Energía/Minería          Grande   \n",
       "1      Fabricación         Mediana   \n",
       "2     ONG/Servicio         Startup   \n",
       "3      Tecnológico         Startup   \n",
       "4      Fabricación         Mediana   \n",
       "\n",
       "                           lenguaje_programacion  \n",
       "0                                    Python, SQL  \n",
       "1                                              R  \n",
       "2                                         Python  \n",
       "3  Python, SQL, C, C++, Java, Javascript, MATLAB  \n",
       "4                                         R, SQL  "
      ]
     },
     "execution_count": 26,
     "metadata": {},
     "output_type": "execute_result"
    }
   ],
   "source": [
    "df.head()"
   ]
  },
  {
   "cell_type": "markdown",
   "metadata": {},
   "source": [
    "- Columna age"
   ]
  },
  {
   "cell_type": "code",
   "execution_count": 27,
   "metadata": {},
   "outputs": [
    {
     "data": {
      "text/plain": [
       "array(['45-59', '18-29', '30-44', '60-70+'], dtype=object)"
      ]
     },
     "execution_count": 27,
     "metadata": {},
     "output_type": "execute_result"
    }
   ],
   "source": [
    "df[\"edades\"].unique()"
   ]
  },
  {
   "cell_type": "code",
   "execution_count": 28,
   "metadata": {},
   "outputs": [],
   "source": [
    "def cat_edad(edad):\n",
    "    \n",
    "    try:\n",
    "        if edad in  [\"18-21\",\"22-24\", \"25-29\"]:\n",
    "            return \"18-29\"\n",
    "        elif edad in  [\"30-34\", '35-39', '40-44'] :\n",
    "            return \"30-44\"\n",
    "        elif edad in  [\"45-49\", '50-54','55-59'] :\n",
    "            return \"45-59\"\n",
    "        elif edad in  [\"60-69\", '70+']:\n",
    "            return \"60-70+\"\n",
    "        \n",
    "    except:\n",
    "        return edad"
   ]
  },
  {
   "cell_type": "code",
   "execution_count": 29,
   "metadata": {},
   "outputs": [
    {
     "data": {
      "text/html": [
       "<div>\n",
       "<style scoped>\n",
       "    .dataframe tbody tr th:only-of-type {\n",
       "        vertical-align: middle;\n",
       "    }\n",
       "\n",
       "    .dataframe tbody tr th {\n",
       "        vertical-align: top;\n",
       "    }\n",
       "\n",
       "    .dataframe thead th {\n",
       "        text-align: right;\n",
       "    }\n",
       "</style>\n",
       "<table border=\"1\" class=\"dataframe\">\n",
       "  <thead>\n",
       "    <tr style=\"text-align: right;\">\n",
       "      <th></th>\n",
       "      <th>edades</th>\n",
       "      <th>genero</th>\n",
       "      <th>salarios</th>\n",
       "      <th>paises</th>\n",
       "      <th>titulo_academico</th>\n",
       "      <th>puesto_trabajo</th>\n",
       "      <th>años_experiencia</th>\n",
       "      <th>sector_laboral</th>\n",
       "      <th>tamaños_empresa</th>\n",
       "      <th>lenguaje_programacion</th>\n",
       "    </tr>\n",
       "  </thead>\n",
       "  <tbody>\n",
       "    <tr>\n",
       "      <th>0</th>\n",
       "      <td>45-59</td>\n",
       "      <td>Hombre</td>\n",
       "      <td>bajo</td>\n",
       "      <td>Belgica</td>\n",
       "      <td>Grado Universitario</td>\n",
       "      <td>Data Analyst</td>\n",
       "      <td>20+ years</td>\n",
       "      <td>Energía/Minería</td>\n",
       "      <td>Grande</td>\n",
       "      <td>Python, SQL</td>\n",
       "    </tr>\n",
       "    <tr>\n",
       "      <th>1</th>\n",
       "      <td>18-29</td>\n",
       "      <td>No binario</td>\n",
       "      <td>No sabe/No contesta</td>\n",
       "      <td>Estados Unidos</td>\n",
       "      <td>Estudios Univertarios sin licenciatura</td>\n",
       "      <td>Data Analyst</td>\n",
       "      <td>&lt; 1 years</td>\n",
       "      <td>Fabricación</td>\n",
       "      <td>Mediana</td>\n",
       "      <td>R</td>\n",
       "    </tr>\n",
       "    <tr>\n",
       "      <th>2</th>\n",
       "      <td>30-44</td>\n",
       "      <td>Mujes</td>\n",
       "      <td>bajo</td>\n",
       "      <td>Egipto</td>\n",
       "      <td>Grado Universitario</td>\n",
       "      <td>Data Analyst</td>\n",
       "      <td>3-5 years</td>\n",
       "      <td>ONG/Servicio</td>\n",
       "      <td>Startup</td>\n",
       "      <td>Python</td>\n",
       "    </tr>\n",
       "    <tr>\n",
       "      <th>3</th>\n",
       "      <td>18-29</td>\n",
       "      <td>Hombre</td>\n",
       "      <td>No sabe/No contesta</td>\n",
       "      <td>China</td>\n",
       "      <td>Estudios Univertarios sin licenciatura</td>\n",
       "      <td>Data Analyst</td>\n",
       "      <td>&lt; 1 years</td>\n",
       "      <td>Tecnológico</td>\n",
       "      <td>Startup</td>\n",
       "      <td>Python, SQL, C, C++, Java, Javascript, MATLAB</td>\n",
       "    </tr>\n",
       "    <tr>\n",
       "      <th>4</th>\n",
       "      <td>30-44</td>\n",
       "      <td>Hombre</td>\n",
       "      <td>medio</td>\n",
       "      <td>Sudafrica</td>\n",
       "      <td>Master</td>\n",
       "      <td>Data Analyst</td>\n",
       "      <td>1-3 years</td>\n",
       "      <td>Fabricación</td>\n",
       "      <td>Mediana</td>\n",
       "      <td>R, SQL</td>\n",
       "    </tr>\n",
       "  </tbody>\n",
       "</table>\n",
       "</div>"
      ],
      "text/plain": [
       "  edades      genero             salarios          paises  \\\n",
       "0  45-59      Hombre                 bajo         Belgica   \n",
       "1  18-29  No binario  No sabe/No contesta  Estados Unidos   \n",
       "2  30-44       Mujes                 bajo          Egipto   \n",
       "3  18-29      Hombre  No sabe/No contesta           China   \n",
       "4  30-44      Hombre                medio       Sudafrica   \n",
       "\n",
       "                         titulo_academico puesto_trabajo años_experiencia  \\\n",
       "0                     Grado Universitario   Data Analyst        20+ years   \n",
       "1  Estudios Univertarios sin licenciatura   Data Analyst        < 1 years   \n",
       "2                     Grado Universitario   Data Analyst        3-5 years   \n",
       "3  Estudios Univertarios sin licenciatura   Data Analyst        < 1 years   \n",
       "4                                  Master   Data Analyst        1-3 years   \n",
       "\n",
       "    sector_laboral tamaños_empresa  \\\n",
       "0  Energía/Minería          Grande   \n",
       "1      Fabricación         Mediana   \n",
       "2     ONG/Servicio         Startup   \n",
       "3      Tecnológico         Startup   \n",
       "4      Fabricación         Mediana   \n",
       "\n",
       "                           lenguaje_programacion  \n",
       "0                                    Python, SQL  \n",
       "1                                              R  \n",
       "2                                         Python  \n",
       "3  Python, SQL, C, C++, Java, Javascript, MATLAB  \n",
       "4                                         R, SQL  "
      ]
     },
     "execution_count": 29,
     "metadata": {},
     "output_type": "execute_result"
    }
   ],
   "source": [
    "df['edades'].apply(cat_edad)\n",
    "df.head()"
   ]
  },
  {
   "cell_type": "code",
   "execution_count": 30,
   "metadata": {},
   "outputs": [
    {
     "data": {
      "text/plain": [
       "array(['45-59', '18-29', '30-44', '60-70+'], dtype=object)"
      ]
     },
     "execution_count": 30,
     "metadata": {},
     "output_type": "execute_result"
    }
   ],
   "source": [
    "df[\"edades\"].unique()"
   ]
  },
  {
   "cell_type": "code",
   "execution_count": 31,
   "metadata": {},
   "outputs": [],
   "source": [
    "def reemplazar_valores(dataframe, columna, diccionario):\n",
    "  \"\"\"\n",
    "Esta función reemplaza los valores que tenemos por los que indicamos en el diccionario.\n",
    "Args: \n",
    "  DataFrame: DataFrame sobre el que queremos trabajar.\n",
    "  columna(str): columna sobre la que queremos reemplazar los valores.\n",
    "  diccionario(dict): diccionario con los valores que queremos reemplazar.\n",
    "Returns: None\n",
    "  \"\"\"          \n",
    "  for k, v in dicc_genero.items():\n",
    "      dataframe[columna].replace(to_replace = k, value = v, inplace = True)"
   ]
  },
  {
   "cell_type": "code",
   "execution_count": 32,
   "metadata": {},
   "outputs": [],
   "source": [
    "# Vamos a traducir los valores de la columna género\n",
    "dicc_genero = {'Man': 'Hombre',\n",
    "               'Nonbinary': 'No binario',\n",
    "               'Woman': 'Mujer', \n",
    "               'Prefer not to say': 'Prefiero no decirlo',\n",
    "               'Prefer to self-describe': 'Prefiero no describirme'}"
   ]
  },
  {
   "cell_type": "code",
   "execution_count": 33,
   "metadata": {},
   "outputs": [],
   "source": [
    "# Aplicamos la función en el DataFrame\n",
    "reemplazar_valores(df, 'genero', dicc_genero)"
   ]
  },
  {
   "cell_type": "code",
   "execution_count": 34,
   "metadata": {},
   "outputs": [],
   "source": [
    "# Vamos a traducir los valores de la columna sector\n",
    "dicc_puesto = {'Energy/Mining': 'Energía/Minería', 'Manufacturing/Fabrication': 'Fabricación', 'Non-profit/Service': 'ONG/Servicio',\n",
    "       'Computers/Technology': 'Tecnológico', 'Accounting/Finance': 'Contabilidad/Finanzas', 'Online Service/Internet-based Services': 'Servicio en línea/Servicios basados ​​en Internet',\n",
    "       'Government/Public Service': 'Gobierno/servicio público', 'Insurance/Risk Assessment': 'Seguro/Evaluación de Riesgos',\n",
    "       'Online Business/Internet-based Sales': 'Negocios en línea/ventas basadas en Internet', 'Shipping/Transportation': 'Envío/Transporte',\n",
    "       'Other': 'Otros', 'Academics/Education': 'Académico/Educación', 'Hospitality/Entertainment/Sports': 'Hostelería/Entretenimiento/Deportes',\n",
    "       'Retail/Sales': 'Ventas al por menor', 'Medical/Pharmaceutical': 'Médico/farmacéutico',\n",
    "       'Broadcasting/Communications': 'Radio/Comunicaciones', 'Military/Security/Defense': 'Militar/Seguridad/Defensa'}"
   ]
  },
  {
   "cell_type": "code",
   "execution_count": 35,
   "metadata": {},
   "outputs": [],
   "source": [
    "# Aplicamos la función en el DataFrame\n",
    "reemplazar_valores(df, 'sector_laboral', dicc_puesto)"
   ]
  },
  {
   "cell_type": "code",
   "execution_count": 36,
   "metadata": {},
   "outputs": [],
   "source": [
    "dicc_paises = {'Belgium': 'Belgica', 'United States of America': 'Estados Unidos', 'Egypt': 'Egipto',\n",
    "       'South Africa': 'Sudafrica', 'Other': 'Otros', 'Brazil': 'Brasil', 'Japan': 'Japon', 'Russia': 'Rusia', 'Ukraine': 'Ucrania', \n",
    "       'Tunisia': 'Tunez', 'Italy': 'Italia', 'Poland': 'Polonia', 'Spain': 'España',\n",
    "       'United Kingdom of Great Britain and Northern Ireland': 'Reino Unido', 'Turkey': 'Turquia',\n",
    "       'Kenya': 'Kenia', 'Iran, Islamic Republic of...': 'Iran', 'South Korea': 'Corea del Sur',\n",
    "       'Viet Nam': 'Vietnam', 'United Arab Emirates': 'Emiratos Arabes', 'Germany': 'Alemania', 'France': 'Francia', 'Greece': 'Grecia',\n",
    "       'Philippines': 'Filipinas', 'Saudi Arabia': 'Arabia Saudi', 'Singapore': 'Singapur', 'Netherlands': 'Paises Bajos',\n",
    "       'Morocco': 'Marruecos', 'Thailand': 'Tailandia', 'Switzerland': 'Suiza',\n",
    "       'Malaysia': 'Malasia', 'Romania': 'Rumania', 'Norway': 'Noruega',\n",
    "       'Ethiopia': 'Etiopia', 'Czech Republic': 'Republica Checa',\n",
    "       'I do not wish to disclose my location': 'No deseo revelar mi ubicacion', 'Ireland': 'Irlanda', 'Sweden': 'Suecia', \n",
    "       'Algeria': 'Argelia', 'Denmark': 'Dinamarca', 'Belarus': 'Bielorusia'}"
   ]
  },
  {
   "cell_type": "code",
   "execution_count": 37,
   "metadata": {},
   "outputs": [],
   "source": [
    "# Aplicamos la función en el DataFrame\n",
    "reemplazar_valores(df, 'paises', dicc_paises)"
   ]
  },
  {
   "cell_type": "code",
   "execution_count": 38,
   "metadata": {},
   "outputs": [],
   "source": [
    "dicc_titulos = {'Bachelor’s degree': 'Grado Universitario' , 'Some college/university study without earning a bachelor’s degree': 'Estudios Univertarios sin licenciatura',\n",
    "       'Master’s degree': 'Master', 'I prefer not to answer': 'Prefiero no responder', 'Doctoral degree': 'Doctorado',\n",
    "       'No formal education past high school': 'Bachillerato', 'Professional doctorate': 'Doctorado Profesional'}"
   ]
  },
  {
   "cell_type": "code",
   "execution_count": 39,
   "metadata": {},
   "outputs": [],
   "source": [
    "# Aplicamos la función en el DataFrame\n",
    "reemplazar_valores(df, 'titulo_academico', dicc_titulos)"
   ]
  },
  {
   "cell_type": "markdown",
   "metadata": {},
   "source": [
    "### Creamos un dataframe con las columnas que vamos a seleccionar para las visualizaciones"
   ]
  },
  {
   "cell_type": "code",
   "execution_count": 40,
   "metadata": {},
   "outputs": [
    {
     "data": {
      "text/html": [
       "<div>\n",
       "<style scoped>\n",
       "    .dataframe tbody tr th:only-of-type {\n",
       "        vertical-align: middle;\n",
       "    }\n",
       "\n",
       "    .dataframe tbody tr th {\n",
       "        vertical-align: top;\n",
       "    }\n",
       "\n",
       "    .dataframe thead th {\n",
       "        text-align: right;\n",
       "    }\n",
       "</style>\n",
       "<table border=\"1\" class=\"dataframe\">\n",
       "  <thead>\n",
       "    <tr style=\"text-align: right;\">\n",
       "      <th></th>\n",
       "      <th>edades</th>\n",
       "      <th>genero</th>\n",
       "      <th>salarios</th>\n",
       "      <th>paises</th>\n",
       "      <th>titulo_academico</th>\n",
       "      <th>puesto_trabajo</th>\n",
       "      <th>años_experiencia</th>\n",
       "      <th>sector_laboral</th>\n",
       "      <th>tamaños_empresa</th>\n",
       "      <th>lenguaje_programacion</th>\n",
       "    </tr>\n",
       "  </thead>\n",
       "  <tbody>\n",
       "    <tr>\n",
       "      <th>0</th>\n",
       "      <td>45-59</td>\n",
       "      <td>Hombre</td>\n",
       "      <td>bajo</td>\n",
       "      <td>Belgica</td>\n",
       "      <td>Grado Universitario</td>\n",
       "      <td>Data Analyst</td>\n",
       "      <td>20+ years</td>\n",
       "      <td>Energía/Minería</td>\n",
       "      <td>Grande</td>\n",
       "      <td>Python, SQL</td>\n",
       "    </tr>\n",
       "    <tr>\n",
       "      <th>1</th>\n",
       "      <td>18-29</td>\n",
       "      <td>No binario</td>\n",
       "      <td>No sabe/No contesta</td>\n",
       "      <td>Estados Unidos</td>\n",
       "      <td>Estudios Univertarios sin licenciatura</td>\n",
       "      <td>Data Analyst</td>\n",
       "      <td>&lt; 1 years</td>\n",
       "      <td>Fabricación</td>\n",
       "      <td>Mediana</td>\n",
       "      <td>R</td>\n",
       "    </tr>\n",
       "    <tr>\n",
       "      <th>2</th>\n",
       "      <td>30-44</td>\n",
       "      <td>Mujes</td>\n",
       "      <td>bajo</td>\n",
       "      <td>Egipto</td>\n",
       "      <td>Grado Universitario</td>\n",
       "      <td>Data Analyst</td>\n",
       "      <td>3-5 years</td>\n",
       "      <td>ONG/Servicio</td>\n",
       "      <td>Startup</td>\n",
       "      <td>Python</td>\n",
       "    </tr>\n",
       "    <tr>\n",
       "      <th>3</th>\n",
       "      <td>18-29</td>\n",
       "      <td>Hombre</td>\n",
       "      <td>No sabe/No contesta</td>\n",
       "      <td>China</td>\n",
       "      <td>Estudios Univertarios sin licenciatura</td>\n",
       "      <td>Data Analyst</td>\n",
       "      <td>&lt; 1 years</td>\n",
       "      <td>Tecnológico</td>\n",
       "      <td>Startup</td>\n",
       "      <td>Python, SQL, C, C++, Java, Javascript, MATLAB</td>\n",
       "    </tr>\n",
       "    <tr>\n",
       "      <th>4</th>\n",
       "      <td>30-44</td>\n",
       "      <td>Hombre</td>\n",
       "      <td>medio</td>\n",
       "      <td>Sudafrica</td>\n",
       "      <td>Master</td>\n",
       "      <td>Data Analyst</td>\n",
       "      <td>1-3 years</td>\n",
       "      <td>Fabricación</td>\n",
       "      <td>Mediana</td>\n",
       "      <td>R, SQL</td>\n",
       "    </tr>\n",
       "  </tbody>\n",
       "</table>\n",
       "</div>"
      ],
      "text/plain": [
       "  edades      genero             salarios          paises  \\\n",
       "0  45-59      Hombre                 bajo         Belgica   \n",
       "1  18-29  No binario  No sabe/No contesta  Estados Unidos   \n",
       "2  30-44       Mujes                 bajo          Egipto   \n",
       "3  18-29      Hombre  No sabe/No contesta           China   \n",
       "4  30-44      Hombre                medio       Sudafrica   \n",
       "\n",
       "                         titulo_academico puesto_trabajo años_experiencia  \\\n",
       "0                     Grado Universitario   Data Analyst        20+ years   \n",
       "1  Estudios Univertarios sin licenciatura   Data Analyst        < 1 years   \n",
       "2                     Grado Universitario   Data Analyst        3-5 years   \n",
       "3  Estudios Univertarios sin licenciatura   Data Analyst        < 1 years   \n",
       "4                                  Master   Data Analyst        1-3 years   \n",
       "\n",
       "    sector_laboral tamaños_empresa  \\\n",
       "0  Energía/Minería          Grande   \n",
       "1      Fabricación         Mediana   \n",
       "2     ONG/Servicio         Startup   \n",
       "3      Tecnológico         Startup   \n",
       "4      Fabricación         Mediana   \n",
       "\n",
       "                           lenguaje_programacion  \n",
       "0                                    Python, SQL  \n",
       "1                                              R  \n",
       "2                                         Python  \n",
       "3  Python, SQL, C, C++, Java, Javascript, MATLAB  \n",
       "4                                         R, SQL  "
      ]
     },
     "execution_count": 40,
     "metadata": {},
     "output_type": "execute_result"
    }
   ],
   "source": [
    "df.head()"
   ]
  },
  {
   "cell_type": "code",
   "execution_count": 41,
   "metadata": {},
   "outputs": [],
   "source": [
    "lista_cols_finales = ['edades', 'genero', 'salarios', 'paises', 'titulo_academico', 'puesto_trabajo', 'años_experiencia', 'sector_laboral', 'tamaños_empresa', 'lenguaje_programacion']"
   ]
  },
  {
   "cell_type": "code",
   "execution_count": 42,
   "metadata": {},
   "outputs": [
    {
     "data": {
      "text/html": [
       "<div>\n",
       "<style scoped>\n",
       "    .dataframe tbody tr th:only-of-type {\n",
       "        vertical-align: middle;\n",
       "    }\n",
       "\n",
       "    .dataframe tbody tr th {\n",
       "        vertical-align: top;\n",
       "    }\n",
       "\n",
       "    .dataframe thead th {\n",
       "        text-align: right;\n",
       "    }\n",
       "</style>\n",
       "<table border=\"1\" class=\"dataframe\">\n",
       "  <thead>\n",
       "    <tr style=\"text-align: right;\">\n",
       "      <th></th>\n",
       "      <th>edades</th>\n",
       "      <th>genero</th>\n",
       "      <th>salarios</th>\n",
       "      <th>paises</th>\n",
       "      <th>titulo_academico</th>\n",
       "      <th>puesto_trabajo</th>\n",
       "      <th>años_experiencia</th>\n",
       "      <th>sector_laboral</th>\n",
       "      <th>tamaños_empresa</th>\n",
       "      <th>lenguaje_programacion</th>\n",
       "    </tr>\n",
       "  </thead>\n",
       "  <tbody>\n",
       "    <tr>\n",
       "      <th>0</th>\n",
       "      <td>45-59</td>\n",
       "      <td>Hombre</td>\n",
       "      <td>bajo</td>\n",
       "      <td>Belgica</td>\n",
       "      <td>Grado Universitario</td>\n",
       "      <td>Data Analyst</td>\n",
       "      <td>20+ years</td>\n",
       "      <td>Energía/Minería</td>\n",
       "      <td>Grande</td>\n",
       "      <td>Python, SQL</td>\n",
       "    </tr>\n",
       "    <tr>\n",
       "      <th>1</th>\n",
       "      <td>18-29</td>\n",
       "      <td>No binario</td>\n",
       "      <td>No sabe/No contesta</td>\n",
       "      <td>Estados Unidos</td>\n",
       "      <td>Estudios Univertarios sin licenciatura</td>\n",
       "      <td>Data Analyst</td>\n",
       "      <td>&lt; 1 years</td>\n",
       "      <td>Fabricación</td>\n",
       "      <td>Mediana</td>\n",
       "      <td>R</td>\n",
       "    </tr>\n",
       "    <tr>\n",
       "      <th>2</th>\n",
       "      <td>30-44</td>\n",
       "      <td>Mujes</td>\n",
       "      <td>bajo</td>\n",
       "      <td>Egipto</td>\n",
       "      <td>Grado Universitario</td>\n",
       "      <td>Data Analyst</td>\n",
       "      <td>3-5 years</td>\n",
       "      <td>ONG/Servicio</td>\n",
       "      <td>Startup</td>\n",
       "      <td>Python</td>\n",
       "    </tr>\n",
       "    <tr>\n",
       "      <th>3</th>\n",
       "      <td>18-29</td>\n",
       "      <td>Hombre</td>\n",
       "      <td>No sabe/No contesta</td>\n",
       "      <td>China</td>\n",
       "      <td>Estudios Univertarios sin licenciatura</td>\n",
       "      <td>Data Analyst</td>\n",
       "      <td>&lt; 1 years</td>\n",
       "      <td>Tecnológico</td>\n",
       "      <td>Startup</td>\n",
       "      <td>Python, SQL, C, C++, Java, Javascript, MATLAB</td>\n",
       "    </tr>\n",
       "    <tr>\n",
       "      <th>4</th>\n",
       "      <td>30-44</td>\n",
       "      <td>Hombre</td>\n",
       "      <td>medio</td>\n",
       "      <td>Sudafrica</td>\n",
       "      <td>Master</td>\n",
       "      <td>Data Analyst</td>\n",
       "      <td>1-3 years</td>\n",
       "      <td>Fabricación</td>\n",
       "      <td>Mediana</td>\n",
       "      <td>R, SQL</td>\n",
       "    </tr>\n",
       "  </tbody>\n",
       "</table>\n",
       "</div>"
      ],
      "text/plain": [
       "  edades      genero             salarios          paises  \\\n",
       "0  45-59      Hombre                 bajo         Belgica   \n",
       "1  18-29  No binario  No sabe/No contesta  Estados Unidos   \n",
       "2  30-44       Mujes                 bajo          Egipto   \n",
       "3  18-29      Hombre  No sabe/No contesta           China   \n",
       "4  30-44      Hombre                medio       Sudafrica   \n",
       "\n",
       "                         titulo_academico puesto_trabajo años_experiencia  \\\n",
       "0                     Grado Universitario   Data Analyst        20+ years   \n",
       "1  Estudios Univertarios sin licenciatura   Data Analyst        < 1 years   \n",
       "2                     Grado Universitario   Data Analyst        3-5 years   \n",
       "3  Estudios Univertarios sin licenciatura   Data Analyst        < 1 years   \n",
       "4                                  Master   Data Analyst        1-3 years   \n",
       "\n",
       "    sector_laboral tamaños_empresa  \\\n",
       "0  Energía/Minería          Grande   \n",
       "1      Fabricación         Mediana   \n",
       "2     ONG/Servicio         Startup   \n",
       "3      Tecnológico         Startup   \n",
       "4      Fabricación         Mediana   \n",
       "\n",
       "                           lenguaje_programacion  \n",
       "0                                    Python, SQL  \n",
       "1                                              R  \n",
       "2                                         Python  \n",
       "3  Python, SQL, C, C++, Java, Javascript, MATLAB  \n",
       "4                                         R, SQL  "
      ]
     },
     "execution_count": 42,
     "metadata": {},
     "output_type": "execute_result"
    }
   ],
   "source": [
    "df_final = df[lista_cols_finales]\n",
    "df_final.head()"
   ]
  },
  {
   "cell_type": "code",
   "execution_count": 43,
   "metadata": {},
   "outputs": [],
   "source": [
    "# Guardamos el dataframe final en un archivo csv\n",
    "df_final.to_csv('../datos/Dataframe_final.csv')"
   ]
  }
 ],
 "metadata": {
  "kernelspec": {
   "display_name": "base",
   "language": "python",
   "name": "python3"
  },
  "language_info": {
   "codemirror_mode": {
    "name": "ipython",
    "version": 3
   },
   "file_extension": ".py",
   "mimetype": "text/x-python",
   "name": "python",
   "nbconvert_exporter": "python",
   "pygments_lexer": "ipython3",
   "version": "3.9.7"
  },
  "orig_nbformat": 4
 },
 "nbformat": 4,
 "nbformat_minor": 2
}

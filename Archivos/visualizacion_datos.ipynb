{
 "cells": [
  {
   "cell_type": "markdown",
   "metadata": {},
   "source": [
    "POSIBLES PREGUNTAS:\n",
    "- Relación entre el género(mujeres) con el tamaño de empresa.\n",
    "\n",
    "- Herramientas más utilizadas segun el puesto: business o data.\n",
    "\n",
    "- Título académico y salario.\n",
    "\n",
    "- Paises: haceer un top10.\n",
    "\n",
    "REPASAR:\n",
    "\n",
    "Split, explode: lenguaje programación. Cantidad de gente que utiliza Python, SQL, R...\n",
    "\n",
    "\n",
    "INICIAR LA PRESENTACIÓN: Historia de los perfiles de los analistas de datos: presentar a modo informativo y enlazarlo\n",
    "\n",
    "    - ¿Cómo es el perfil de un analista y business?\n",
    "    \n",
    "    - ¿Hay diferencias entre el perfil de un business y un data?\n",
    "\n",
    "¿A quién va dirigido el curso? ¿Qué ofrece?\n",
    "    - Pais\n",
    "    \n",
    "    - Género\n",
    "    \n",
    "    - Salario\n",
    "    \n",
    "    - Herramientas: cuales utilizan los Business y los Data\n",
    "\n",
    "\n",
    "Como es un perfil del Analista de Datos\n",
    "\n",
    "\n",
    "¿A quién me quiero dirigir?\n",
    "    \n",
    "    - a mujeres (brecha género)\n",
    "\n",
    "¿Su cv está adaptado a lo que pide el mercado?\n",
    "\n",
    "GRAFICAS:\n",
    "\n",
    "-Grafica 1: ¿A mayor edad mayor brecha de género? Comparar columnas edades y género.\n",
    "\n",
    "-Grafica 2: Comparar lenguajes_programacion(top5).\n",
    "\n",
    "-Grafica 3: ¿Dónde se está contratando a más gente de Business/Data? Ubicar España dentro de ese mercado de contratación.\n",
    "\n",
    "-Gráfica 4: tamaño_empresa con brecha género.\n",
    "\n",
    "-Gráfica 5: sector laboral con empresas (qué sector contrata a más bussines o data para que adalab enfoque sus proyectos en este sector)\n",
    "\n",
    "-Gráfica 6: Salarios y género: buena pregunta.\n",
    "\n",
    "\"\"\""
   ]
  },
  {
   "cell_type": "code",
   "execution_count": 1,
   "metadata": {},
   "outputs": [],
   "source": [
    "import pandas as pd\n",
    "import numpy as np\n",
    "import os\n",
    "import seaborn as sns\n",
    "import matplotlib.pyplot as plt\n",
    "import re\n",
    "import sidetable"
   ]
  },
  {
   "cell_type": "code",
   "execution_count": 2,
   "metadata": {},
   "outputs": [
    {
     "data": {
      "text/html": [
       "<div>\n",
       "<style scoped>\n",
       "    .dataframe tbody tr th:only-of-type {\n",
       "        vertical-align: middle;\n",
       "    }\n",
       "\n",
       "    .dataframe tbody tr th {\n",
       "        vertical-align: top;\n",
       "    }\n",
       "\n",
       "    .dataframe thead th {\n",
       "        text-align: right;\n",
       "    }\n",
       "</style>\n",
       "<table border=\"1\" class=\"dataframe\">\n",
       "  <thead>\n",
       "    <tr style=\"text-align: right;\">\n",
       "      <th></th>\n",
       "      <th>edades</th>\n",
       "      <th>genero</th>\n",
       "      <th>salarios</th>\n",
       "      <th>paises</th>\n",
       "      <th>titulo_academico</th>\n",
       "      <th>puesto_trabajo</th>\n",
       "      <th>años_experiencia</th>\n",
       "      <th>sector_laboral</th>\n",
       "      <th>tamaños_empresa</th>\n",
       "      <th>lenguaje_programacion</th>\n",
       "    </tr>\n",
       "  </thead>\n",
       "  <tbody>\n",
       "    <tr>\n",
       "      <th>16</th>\n",
       "      <td>45-59</td>\n",
       "      <td>Man</td>\n",
       "      <td>bajo</td>\n",
       "      <td>Belgium</td>\n",
       "      <td>Bachelor’s degree</td>\n",
       "      <td>Data Analyst</td>\n",
       "      <td>20+ years</td>\n",
       "      <td>Energy/Mining</td>\n",
       "      <td>Grande</td>\n",
       "      <td>Python, SQL</td>\n",
       "    </tr>\n",
       "    <tr>\n",
       "      <th>32</th>\n",
       "      <td>18-29</td>\n",
       "      <td>Nonbinary</td>\n",
       "      <td>No sabe/No contesta</td>\n",
       "      <td>United States of America</td>\n",
       "      <td>Some college/university study without earning ...</td>\n",
       "      <td>Data Analyst</td>\n",
       "      <td>&lt; 1 years</td>\n",
       "      <td>Manufacturing/Fabrication</td>\n",
       "      <td>Mediana</td>\n",
       "      <td>R</td>\n",
       "    </tr>\n",
       "    <tr>\n",
       "      <th>33</th>\n",
       "      <td>30-44</td>\n",
       "      <td>Woman</td>\n",
       "      <td>bajo</td>\n",
       "      <td>Egypt</td>\n",
       "      <td>Bachelor’s degree</td>\n",
       "      <td>Data Analyst</td>\n",
       "      <td>3-5 years</td>\n",
       "      <td>Non-profit/Service</td>\n",
       "      <td>Startup</td>\n",
       "      <td>Python</td>\n",
       "    </tr>\n",
       "    <tr>\n",
       "      <th>46</th>\n",
       "      <td>18-29</td>\n",
       "      <td>Man</td>\n",
       "      <td>No sabe/No contesta</td>\n",
       "      <td>China</td>\n",
       "      <td>Some college/university study without earning ...</td>\n",
       "      <td>Data Analyst</td>\n",
       "      <td>&lt; 1 years</td>\n",
       "      <td>Computers/Technology</td>\n",
       "      <td>Startup</td>\n",
       "      <td>Python, SQL, C, C++, Java, Javascript, MATLAB</td>\n",
       "    </tr>\n",
       "    <tr>\n",
       "      <th>52</th>\n",
       "      <td>30-44</td>\n",
       "      <td>Man</td>\n",
       "      <td>medio</td>\n",
       "      <td>South Africa</td>\n",
       "      <td>Master’s degree</td>\n",
       "      <td>Data Analyst</td>\n",
       "      <td>1-3 years</td>\n",
       "      <td>Manufacturing/Fabrication</td>\n",
       "      <td>Mediana</td>\n",
       "      <td>R, SQL</td>\n",
       "    </tr>\n",
       "  </tbody>\n",
       "</table>\n",
       "</div>"
      ],
      "text/plain": [
       "   edades     genero             salarios                    paises  \\\n",
       "16  45-59        Man                 bajo                   Belgium   \n",
       "32  18-29  Nonbinary  No sabe/No contesta  United States of America   \n",
       "33  30-44      Woman                 bajo                     Egypt   \n",
       "46  18-29        Man  No sabe/No contesta                     China   \n",
       "52  30-44        Man                medio              South Africa   \n",
       "\n",
       "                                     titulo_academico puesto_trabajo  \\\n",
       "16                                  Bachelor’s degree   Data Analyst   \n",
       "32  Some college/university study without earning ...   Data Analyst   \n",
       "33                                  Bachelor’s degree   Data Analyst   \n",
       "46  Some college/university study without earning ...   Data Analyst   \n",
       "52                                    Master’s degree   Data Analyst   \n",
       "\n",
       "   años_experiencia             sector_laboral tamaños_empresa  \\\n",
       "16        20+ years              Energy/Mining          Grande   \n",
       "32        < 1 years  Manufacturing/Fabrication         Mediana   \n",
       "33        3-5 years         Non-profit/Service         Startup   \n",
       "46        < 1 years       Computers/Technology         Startup   \n",
       "52        1-3 years  Manufacturing/Fabrication         Mediana   \n",
       "\n",
       "                            lenguaje_programacion  \n",
       "16                                    Python, SQL  \n",
       "32                                              R  \n",
       "33                                         Python  \n",
       "46  Python, SQL, C, C++, Java, Javascript, MATLAB  \n",
       "52                                         R, SQL  "
      ]
     },
     "execution_count": 2,
     "metadata": {},
     "output_type": "execute_result"
    }
   ],
   "source": [
    "df = pd.read_csv('../datos/Dataframe_final.csv', index_col = 0)\n",
    "df.head()"
   ]
  },
  {
   "cell_type": "code",
   "execution_count": 3,
   "metadata": {},
   "outputs": [
    {
     "data": {
      "text/plain": [
       "edades                   object\n",
       "genero                   object\n",
       "salarios                 object\n",
       "paises                   object\n",
       "titulo_academico         object\n",
       "puesto_trabajo           object\n",
       "años_experiencia         object\n",
       "sector_laboral           object\n",
       "tamaños_empresa          object\n",
       "lenguaje_programacion    object\n",
       "dtype: object"
      ]
     },
     "execution_count": 3,
     "metadata": {},
     "output_type": "execute_result"
    }
   ],
   "source": [
    "df.dtypes"
   ]
  },
  {
   "cell_type": "markdown",
   "metadata": {},
   "source": [
    "- Gráfica 1: ¿A mayor edad mayor brecha de género? Comparar columnas edades y género."
   ]
  },
  {
   "cell_type": "code",
   "execution_count": 4,
   "metadata": {},
   "outputs": [
    {
     "data": {
      "text/html": [
       "<div>\n",
       "<style scoped>\n",
       "    .dataframe tbody tr th:only-of-type {\n",
       "        vertical-align: middle;\n",
       "    }\n",
       "\n",
       "    .dataframe tbody tr th {\n",
       "        vertical-align: top;\n",
       "    }\n",
       "\n",
       "    .dataframe thead th {\n",
       "        text-align: right;\n",
       "    }\n",
       "</style>\n",
       "<table border=\"1\" class=\"dataframe\">\n",
       "  <thead>\n",
       "    <tr style=\"text-align: right;\">\n",
       "      <th></th>\n",
       "      <th>edades</th>\n",
       "      <th>genero</th>\n",
       "      <th>salarios</th>\n",
       "      <th>paises</th>\n",
       "      <th>titulo_academico</th>\n",
       "      <th>puesto_trabajo</th>\n",
       "      <th>años_experiencia</th>\n",
       "      <th>sector_laboral</th>\n",
       "      <th>tamaños_empresa</th>\n",
       "      <th>lenguaje_programacion</th>\n",
       "    </tr>\n",
       "  </thead>\n",
       "  <tbody>\n",
       "    <tr>\n",
       "      <th>16</th>\n",
       "      <td>45-59</td>\n",
       "      <td>Man</td>\n",
       "      <td>bajo</td>\n",
       "      <td>Belgium</td>\n",
       "      <td>Bachelor’s degree</td>\n",
       "      <td>Data Analyst</td>\n",
       "      <td>20+ years</td>\n",
       "      <td>Energy/Mining</td>\n",
       "      <td>Grande</td>\n",
       "      <td>Python, SQL</td>\n",
       "    </tr>\n",
       "    <tr>\n",
       "      <th>33</th>\n",
       "      <td>30-44</td>\n",
       "      <td>Woman</td>\n",
       "      <td>bajo</td>\n",
       "      <td>Egypt</td>\n",
       "      <td>Bachelor’s degree</td>\n",
       "      <td>Data Analyst</td>\n",
       "      <td>3-5 years</td>\n",
       "      <td>Non-profit/Service</td>\n",
       "      <td>Startup</td>\n",
       "      <td>Python</td>\n",
       "    </tr>\n",
       "    <tr>\n",
       "      <th>46</th>\n",
       "      <td>18-29</td>\n",
       "      <td>Man</td>\n",
       "      <td>No sabe/No contesta</td>\n",
       "      <td>China</td>\n",
       "      <td>Some college/university study without earning ...</td>\n",
       "      <td>Data Analyst</td>\n",
       "      <td>&lt; 1 years</td>\n",
       "      <td>Computers/Technology</td>\n",
       "      <td>Startup</td>\n",
       "      <td>Python, SQL, C, C++, Java, Javascript, MATLAB</td>\n",
       "    </tr>\n",
       "    <tr>\n",
       "      <th>52</th>\n",
       "      <td>30-44</td>\n",
       "      <td>Man</td>\n",
       "      <td>medio</td>\n",
       "      <td>South Africa</td>\n",
       "      <td>Master’s degree</td>\n",
       "      <td>Data Analyst</td>\n",
       "      <td>1-3 years</td>\n",
       "      <td>Manufacturing/Fabrication</td>\n",
       "      <td>Mediana</td>\n",
       "      <td>R, SQL</td>\n",
       "    </tr>\n",
       "    <tr>\n",
       "      <th>53</th>\n",
       "      <td>30-44</td>\n",
       "      <td>Man</td>\n",
       "      <td>alto</td>\n",
       "      <td>Other</td>\n",
       "      <td>Master’s degree</td>\n",
       "      <td>Business Analyst</td>\n",
       "      <td>1-3 years</td>\n",
       "      <td>Accounting/Finance</td>\n",
       "      <td>Pequeña</td>\n",
       "      <td>Python, SQL, Other</td>\n",
       "    </tr>\n",
       "  </tbody>\n",
       "</table>\n",
       "</div>"
      ],
      "text/plain": [
       "   edades genero             salarios        paises  \\\n",
       "16  45-59    Man                 bajo       Belgium   \n",
       "33  30-44  Woman                 bajo         Egypt   \n",
       "46  18-29    Man  No sabe/No contesta         China   \n",
       "52  30-44    Man                medio  South Africa   \n",
       "53  30-44    Man                 alto         Other   \n",
       "\n",
       "                                     titulo_academico    puesto_trabajo  \\\n",
       "16                                  Bachelor’s degree      Data Analyst   \n",
       "33                                  Bachelor’s degree      Data Analyst   \n",
       "46  Some college/university study without earning ...      Data Analyst   \n",
       "52                                    Master’s degree      Data Analyst   \n",
       "53                                    Master’s degree  Business Analyst   \n",
       "\n",
       "   años_experiencia             sector_laboral tamaños_empresa  \\\n",
       "16        20+ years              Energy/Mining          Grande   \n",
       "33        3-5 years         Non-profit/Service         Startup   \n",
       "46        < 1 years       Computers/Technology         Startup   \n",
       "52        1-3 years  Manufacturing/Fabrication         Mediana   \n",
       "53        1-3 years         Accounting/Finance         Pequeña   \n",
       "\n",
       "                            lenguaje_programacion  \n",
       "16                                    Python, SQL  \n",
       "33                                         Python  \n",
       "46  Python, SQL, C, C++, Java, Javascript, MATLAB  \n",
       "52                                         R, SQL  \n",
       "53                             Python, SQL, Other  "
      ]
     },
     "execution_count": 4,
     "metadata": {},
     "output_type": "execute_result"
    }
   ],
   "source": [
    "df_genero = df[(df['genero'] == 'Man') | (df['genero'] == 'Woman')]\n",
    "df_genero.head()"
   ]
  },
  {
   "cell_type": "code",
   "execution_count": 5,
   "metadata": {},
   "outputs": [
    {
     "data": {
      "image/png": "[encoded data removed]",
      "text/plain": [
       "<Figure size 720x504 with 1 Axes>"
      ]
     },
     "metadata": {
      "needs_background": "light"
     },
     "output_type": "display_data"
    }
   ],
   "source": [
    "plt.figure(figsize =(10,7))\n",
    "\n",
    "fig = sns.countplot(x = 'genero', data = df_genero, hue = 'edades')\n",
    "fig.set( xlabel = 'Género', ylabel = 'Edades')\n",
    "\n",
    "fig.set_title('Relación edades y género');"
   ]
  },
  {
   "cell_type": "markdown",
   "metadata": {},
   "source": [
    "- Gráfica 2"
   ]
  },
  {
   "cell_type": "code",
   "execution_count": 6,
   "metadata": {},
   "outputs": [
    {
     "data": {
      "text/plain": [
       "array(['Python, SQL', ' R', 'Python',\n",
       "       'Python, SQL, C, C++, Java, Javascript, MATLAB', ' R, SQL',\n",
       "       'Python, SQL, Other', ' SQL, C++', ' R, SQL, C++', ' SQL',\n",
       "       'Python, SQL, Javascript', 'Python, SQL, C, Javascript',\n",
       "       'No sabe/No contesta', 'Python, SQL, C++, Other', 'Python, R, SQL',\n",
       "       'Python, R, SQL, C, C++', 'Python, R', ' C++', 'Python, R, Other',\n",
       "       ' None', 'Python, SQL, Java, Javascript', 'Python, R, MATLAB',\n",
       "       'Python, R, SQL, C++, MATLAB', 'Python, SQL, C++',\n",
       "       'Python, SQL, Javascript, Other', 'Python, R, SQL, MATLAB',\n",
       "       'Python, SQL, MATLAB', 'Python, R, C, C++', 'Python, Javascript',\n",
       "       'Python, SQL, Javascript, Bash', ' C, C++, MATLAB', 'Python, Java',\n",
       "       ' SQL, Java', 'Python, R, SQL, Other',\n",
       "       'Python, SQL, C++, Javascript, Bash', 'Python, C++, Java, MATLAB',\n",
       "       'Python, Javascript, Other', 'Python, R, SQL, Javascript',\n",
       "       'Python, C', 'Python, R, SQL, C, C++, Java',\n",
       "       'Python, R, SQL, Java, Javascript', 'Python, SQL, C, Java',\n",
       "       'Python, Other', 'Python, R, SQL, Java', 'Python, SQL, C, MATLAB',\n",
       "       'Python, SQL, C', 'Python, C, C++, Java', ' SQL, Java, Other',\n",
       "       ' R, Other', 'Python, SQL, MATLAB, Other', ' SQL, Other',\n",
       "       'Python, R, SQL, C, C++, Java, Javascript, MATLAB, Other',\n",
       "       ' MATLAB', 'Python, SQL, Java', 'Python, R, SQL, C',\n",
       "       'Python, C, MATLAB',\n",
       "       'Python, R, SQL, C, C++, Java, Javascript, Julia, Swift, Bash, MATLAB',\n",
       "       ' Java', 'Python, R, SQL, C, C++, Java, Javascript',\n",
       "       'Python, SQL, Bash', 'Python, SQL, C++, Java',\n",
       "       'Python, SQL, C++, Java, MATLAB', ' C++, Java, Javascript',\n",
       "       'Python, C++, MATLAB', 'Python, Julia',\n",
       "       'Python, SQL, C, Java, Javascript', 'Python, C, C++, Bash, MATLAB',\n",
       "       'Python, SQL, Bash, Other',\n",
       "       'Python, C, C++, Javascript, Julia, Swift', 'Python, C, Java',\n",
       "       'Python, SQL, C, C++', 'Python, R, SQL, C, C++, Swift, Bash',\n",
       "       'Python, R, SQL, C++, Java', 'Python, C++',\n",
       "       'Python, R, SQL, C, C++, Java, Javascript, Bash, MATLAB',\n",
       "       'Python, R, SQL, Bash', ' Other', ' C', 'Python, R, Julia, MATLAB',\n",
       "       ' SQL, C, C++, Java, Javascript', 'Python, R, SQL, Julia, Bash',\n",
       "       'Python, MATLAB', 'Python, R, C++, MATLAB', ' SQL, Javascript',\n",
       "       'Python, R, SQL, C, Javascript, MATLAB', ' Javascript',\n",
       "       ' R, SQL, Other', 'Python, R, Javascript',\n",
       "       'Python, C++, Javascript', ' R, SQL, C, Javascript, Bash',\n",
       "       ' Swift', 'Python, R, C', 'Python, SQL, C, C++, Java, Javascript',\n",
       "       'Python, R, SQL, C, Java', 'Python, SQL, C++, Javascript, MATLAB',\n",
       "       'Python, SQL, C, C++, Javascript, MATLAB', 'Python, R, Julia',\n",
       "       'Python, R, SQL, C, C++, MATLAB', 'Python, C++, Java',\n",
       "       ' SQL, C, MATLAB', 'Python, C, C++, Javascript, MATLAB',\n",
       "       'Python, SQL, C, C++, Java, Javascript, Bash', 'Python, R, Java',\n",
       "       'Python, Java, Bash, Other', 'Python, SQL, C, C++, Java, Other',\n",
       "       'Python, SQL, C, Javascript, Bash', ' Javascript, Bash',\n",
       "       'Python, C, C++', 'Python, C, C++, Java, MATLAB',\n",
       "       'Python, SQL, Java, Javascript, Other',\n",
       "       'Python, SQL, C, C++, Java, Javascript, Bash, MATLAB, Other',\n",
       "       ' R, SQL, Javascript', 'Python, Java, MATLAB', ' SQL, C, Java',\n",
       "       'Python, R, SQL, C, MATLAB',\n",
       "       'Python, SQL, Javascript, Bash, Other', ' C++, Java',\n",
       "       'Python, Javascript, MATLAB', 'Python, R, SQL, Julia',\n",
       "       ' R, SQL, MATLAB', ' R, C, Bash, MATLAB',\n",
       "       'Python, SQL, C, Java, Javascript, Bash', ' SQL, C++, MATLAB',\n",
       "       'Python, R, SQL, C++, Javascript, MATLAB',\n",
       "       'Python, R, SQL, Java, Javascript, Swift, Bash',\n",
       "       'Python, R, C++, MATLAB, Other', 'Python, R, SQL, C++, Java, Bash',\n",
       "       'Python, R, C, C++, Javascript', 'Python, SQL, Java, Other',\n",
       "       ' SQL, C', 'Python, C, C++, MATLAB', 'Python, SQL, C, C++, Java',\n",
       "       'Python, R, SQL, C, Java, Javascript', ' R, C, Other',\n",
       "       'Python, SQL, C++, Javascript', ' Bash',\n",
       "       'Python, R, SQL, Java, Javascript, Bash', 'Python, R, SQL, Swift',\n",
       "       'Python, R, C++', 'Python, R, SQL, MATLAB, Other',\n",
       "       'Python, C, C++, Java, Other', 'Python, R, Javascript, Bash',\n",
       "       'Python, R, SQL, C, C++, Java, Javascript, Other',\n",
       "       'Python, R, SQL, C++, Java, Javascript, MATLAB', ' C, C++',\n",
       "       'Python, R, SQL, C, C++, Java, MATLAB',\n",
       "       'Python, R, SQL, C, C++, Javascript',\n",
       "       'Python, R, Javascript, MATLAB', 'Python, SQL, Java, MATLAB',\n",
       "       ' SQL, C++, Javascript, Other',\n",
       "       'Python, C++, Java, Javascript, Other',\n",
       "       'Python, R, SQL, C++, Javascript',\n",
       "       'Python, C, C++, Java, Javascript', 'Python, R, Bash',\n",
       "       'Python, Java, Javascript', 'Python, SQL, C, C++, Other',\n",
       "       'Python, R, SQL, C, Java, Javascript, Other',\n",
       "       'Python, R, SQL, Javascript, MATLAB',\n",
       "       ' R, C, C++, Java, Javascript, MATLAB',\n",
       "       'Python, SQL, Java, Javascript, Bash', ' R, SQL, Bash',\n",
       "       'Python, R, SQL, C, C++, Java, Swift, MATLAB',\n",
       "       'Python, SQL, Java, Javascript, MATLAB', ' SQL, MATLAB',\n",
       "       ' SQL, Javascript, Other', ' SQL, Java, Javascript, Other',\n",
       "       ' C, Other', 'Python, SQL, C++, Java, Javascript, Other',\n",
       "       ' R, MATLAB, Other', ' C, C++, Java, Javascript',\n",
       "       'Python, SQL, Bash, MATLAB', ' R, C, C++, Java, Javascript',\n",
       "       'Python, R, SQL, Javascript, Bash',\n",
       "       'Python, R, SQL, C, Javascript', ' SQL, Bash', ' Java, Javascript',\n",
       "       ' R, C', ' R, MATLAB', 'Python, Bash',\n",
       "       'Python, SQL, C++, Java, Swift', 'Python, R, Javascript, Other',\n",
       "       'Python, SQL, C, C++, Java, MATLAB',\n",
       "       'Python, SQL, Javascript, MATLAB', ' SQL, Java, Javascript',\n",
       "       'Python, SQL, C, C++, Java, Bash', 'Python, R, SQL, C++',\n",
       "       'Python, R, SQL, Javascript, Bash, Other',\n",
       "       'Python, SQL, C++, Java, Javascript, MATLAB',\n",
       "       'Python, R, SQL, Javascript, Other', ' R, SQL, Javascript, Other',\n",
       "       'Python, SQL, C++, Julia', 'Python, SQL, Java, Bash',\n",
       "       'Python, R, SQL, C, C++, Java, Javascript, Julia, Swift, Bash, MATLAB, Other',\n",
       "       ' SQL, C++, Javascript, MATLAB', ' SQL, C, Javascript, Bash',\n",
       "       'Python, C, C++, MATLAB, Other', ' R, Java, Swift',\n",
       "       'Python, SQL, C++, Java, Bash, Other', ' SQL, Javascript, MATLAB',\n",
       "       ' C, Bash', 'Python, R, SQL, Java, Other',\n",
       "       'Python, R, SQL, Bash, Other', 'Python, SQL, C, Java, Bash',\n",
       "       'Python, SQL, Javascript, Bash, MATLAB, Other',\n",
       "       ' R, C, C++, Java, Julia, Other', 'Python, C, Java, Javascript',\n",
       "       'Python, R, SQL, Java, Javascript, MATLAB', ' C++, Other',\n",
       "       ' C++, MATLAB',\n",
       "       'Python, SQL, C, C++, Java, Javascript, Bash, MATLAB',\n",
       "       'Python, R, SQL, C++, Other', 'Python, SQL, C++, Java, Javascript',\n",
       "       ' R, SQL, C', 'Python, R, SQL, C, C++, Javascript, Bash',\n",
       "       'Python, R, C, C++, Java, MATLAB',\n",
       "       'Python, SQL, C, C++, Java, Javascript, Swift, Bash',\n",
       "       'Python, SQL, C++, MATLAB', ' R, Javascript, Swift, Other',\n",
       "       ' Java, MATLAB', 'Python, SQL, Julia',\n",
       "       'Python, R, SQL, C, C++, Java, Bash', 'Python, R, C, Javascript',\n",
       "       'Python, SQL, C, Other', ' SQL, C++, Javascript', ' R, C++',\n",
       "       'Python, Java, Javascript, MATLAB',\n",
       "       'Python, SQL, C, C++, MATLAB, Other',\n",
       "       'Python, SQL, C, C++, MATLAB',\n",
       "       'Python, R, Java, Javascript, MATLAB', 'Python, C++, Other',\n",
       "       'Python, C++, Java, MATLAB, Other', 'Python, Java, Bash',\n",
       "       'Python, Swift', ' R, Bash',\n",
       "       'Python, R, SQL, C++, Java, Javascript, MATLAB, Other',\n",
       "       'Python, C, C++, Java, Javascript, Bash, MATLAB',\n",
       "       'Python, C++, Java, Javascript', ' SQL, Java, Javascript, Bash',\n",
       "       'Python, R, C, C++, MATLAB', 'Python, Java, Other',\n",
       "       'Python, SQL, C, C++, Java, Javascript, Swift, MATLAB',\n",
       "       'Python, R, SQL, Java, MATLAB',\n",
       "       'Python, R, SQL, C++, Java, MATLAB', ' R, Bash, MATLAB',\n",
       "       'Python, SQL, C++, Javascript, Swift, Bash, MATLAB',\n",
       "       'Python, C, C++, Javascript',\n",
       "       'Python, R, SQL, C++, Java, Javascript', ' C, C++, Java',\n",
       "       'Python, Javascript, Bash', ' SQL, C, C++, Javascript, Other',\n",
       "       ' R, SQL, C++, Javascript, MATLAB',\n",
       "       'Python, R, SQL, Java, Javascript, Other'], dtype=object)"
      ]
     },
     "execution_count": 6,
     "metadata": {},
     "output_type": "execute_result"
    }
   ],
   "source": [
    "df[\"lenguaje_programacion\"].unique()"
   ]
  },
  {
   "cell_type": "code",
   "execution_count": 7,
   "metadata": {},
   "outputs": [
    {
     "data": {
      "text/html": [
       "<div>\n",
       "<style scoped>\n",
       "    .dataframe tbody tr th:only-of-type {\n",
       "        vertical-align: middle;\n",
       "    }\n",
       "\n",
       "    .dataframe tbody tr th {\n",
       "        vertical-align: top;\n",
       "    }\n",
       "\n",
       "    .dataframe thead th {\n",
       "        text-align: right;\n",
       "    }\n",
       "</style>\n",
       "<table border=\"1\" class=\"dataframe\">\n",
       "  <thead>\n",
       "    <tr style=\"text-align: right;\">\n",
       "      <th></th>\n",
       "      <th>lenguaje_programacion</th>\n",
       "    </tr>\n",
       "  </thead>\n",
       "  <tbody>\n",
       "    <tr>\n",
       "      <th>Python, SQL</th>\n",
       "      <td>622</td>\n",
       "    </tr>\n",
       "    <tr>\n",
       "      <th>Python</th>\n",
       "      <td>481</td>\n",
       "    </tr>\n",
       "    <tr>\n",
       "      <th>Python, R, SQL</th>\n",
       "      <td>319</td>\n",
       "    </tr>\n",
       "    <tr>\n",
       "      <th>No sabe/No contesta</th>\n",
       "      <td>275</td>\n",
       "    </tr>\n",
       "    <tr>\n",
       "      <th>Python, R</th>\n",
       "      <td>140</td>\n",
       "    </tr>\n",
       "  </tbody>\n",
       "</table>\n",
       "</div>"
      ],
      "text/plain": [
       "                     lenguaje_programacion\n",
       "Python, SQL                            622\n",
       "Python                                 481\n",
       "Python, R, SQL                         319\n",
       "No sabe/No contesta                    275\n",
       "Python, R                              140"
      ]
     },
     "execution_count": 7,
     "metadata": {},
     "output_type": "execute_result"
    }
   ],
   "source": [
    "df_lenguajes = pd.DataFrame(df[\"lenguaje_programacion\"].value_counts())\n",
    "df_lenguajes.head()"
   ]
  },
  {
   "cell_type": "code",
   "execution_count": 8,
   "metadata": {},
   "outputs": [],
   "source": [
    "# Creamos una funcion que dividirá los strings de la columna lenguajes_programacion\n",
    "def split_string(lenguajes):\n",
    "    try:\n",
    "        return [lenguaje.strip() for lenguaje in lenguajes.split(',')]\n",
    "    except:\n",
    "        return [\"sin responder\"]"
   ]
  },
  {
   "cell_type": "code",
   "execution_count": 9,
   "metadata": {},
   "outputs": [
    {
     "data": {
      "text/plain": [
       "Python, SQL                                        622\n",
       "Python                                             481\n",
       "Python, R, SQL                                     319\n",
       "No sabe/No contesta                                275\n",
       "Python, R                                          140\n",
       "                                                  ... \n",
       "Python, R, SQL, C, C++, Java, Javascript, Other      1\n",
       "Python, R, Javascript, Bash                          1\n",
       "Python, C, C++, Java, Other                          1\n",
       "Python, R, SQL, Swift                                1\n",
       "Python, R, SQL, Java, Javascript, Other              1\n",
       "Name: lenguaje_programacion, Length: 251, dtype: int64"
      ]
     },
     "execution_count": 9,
     "metadata": {},
     "output_type": "execute_result"
    }
   ],
   "source": [
    "df[\"lenguaje_programacion\"].value_counts()"
   ]
  },
  {
   "cell_type": "code",
   "execution_count": 10,
   "metadata": {},
   "outputs": [],
   "source": [
    "df['lenguaje_programacion'] = list(df['lenguaje_programacion'].apply(split_string))\n"
   ]
  },
  {
   "cell_type": "code",
   "execution_count": 11,
   "metadata": {},
   "outputs": [
    {
     "name": "stdout",
     "output_type": "stream",
     "text": [
      "{'Python': 2465, 'SQL': 1866, 'R': 928, 'C': 240, 'C++': 288, 'Java': 300, 'Javascript': 327, 'MATLAB': 230, 'Other': 300, 'No sabe/No contesta': 275, 'None': 59, 'Bash': 131, 'Julia': 21, 'Swift': 20}\n"
     ]
    }
   ],
   "source": [
    "# Contamos la frecuencia de cada lenguaje\n",
    "# Creamos un diccionario en el que tendremos el conteo\n",
    "\n",
    "conteo_lenguajes = {}\n",
    "for lenguajes in df['lenguaje_programacion']:\n",
    "    \n",
    "        for lenguaje in lenguajes:\n",
    "            if lenguaje in conteo_lenguajes:\n",
    "                conteo_lenguajes[lenguaje] += 1\n",
    "            else:\n",
    "                conteo_lenguajes[lenguaje] = 1\n",
    "print(conteo_lenguajes)"
   ]
  },
  {
   "cell_type": "code",
   "execution_count": 12,
   "metadata": {},
   "outputs": [
    {
     "data": {
      "text/html": [
       "<div>\n",
       "<style scoped>\n",
       "    .dataframe tbody tr th:only-of-type {\n",
       "        vertical-align: middle;\n",
       "    }\n",
       "\n",
       "    .dataframe tbody tr th {\n",
       "        vertical-align: top;\n",
       "    }\n",
       "\n",
       "    .dataframe thead th {\n",
       "        text-align: right;\n",
       "    }\n",
       "</style>\n",
       "<table border=\"1\" class=\"dataframe\">\n",
       "  <thead>\n",
       "    <tr style=\"text-align: right;\">\n",
       "      <th></th>\n",
       "      <th>Python</th>\n",
       "      <th>SQL</th>\n",
       "      <th>R</th>\n",
       "      <th>C</th>\n",
       "      <th>C++</th>\n",
       "      <th>Java</th>\n",
       "      <th>Javascript</th>\n",
       "      <th>MATLAB</th>\n",
       "      <th>Other</th>\n",
       "      <th>No sabe/No contesta</th>\n",
       "      <th>None</th>\n",
       "      <th>Bash</th>\n",
       "      <th>Julia</th>\n",
       "      <th>Swift</th>\n",
       "    </tr>\n",
       "  </thead>\n",
       "  <tbody>\n",
       "    <tr>\n",
       "      <th>0</th>\n",
       "      <td>2465</td>\n",
       "      <td>1866</td>\n",
       "      <td>928</td>\n",
       "      <td>240</td>\n",
       "      <td>288</td>\n",
       "      <td>300</td>\n",
       "      <td>327</td>\n",
       "      <td>230</td>\n",
       "      <td>300</td>\n",
       "      <td>275</td>\n",
       "      <td>59</td>\n",
       "      <td>131</td>\n",
       "      <td>21</td>\n",
       "      <td>20</td>\n",
       "    </tr>\n",
       "  </tbody>\n",
       "</table>\n",
       "</div>"
      ],
      "text/plain": [
       "   Python   SQL    R    C  C++  Java  Javascript  MATLAB  Other  \\\n",
       "0    2465  1866  928  240  288   300         327     230    300   \n",
       "\n",
       "   No sabe/No contesta  None  Bash  Julia  Swift  \n",
       "0                  275    59   131     21     20  "
      ]
     },
     "execution_count": 12,
     "metadata": {},
     "output_type": "execute_result"
    }
   ],
   "source": [
    "df_conteo_lenguajes = pd.DataFrame(conteo_lenguajes, index = [0]) \n",
    "df_conteo_lenguajes "
   ]
  },
  {
   "cell_type": "code",
   "execution_count": 19,
   "metadata": {},
   "outputs": [
    {
     "data": {
      "text/html": [
       "<div>\n",
       "<style scoped>\n",
       "    .dataframe tbody tr th:only-of-type {\n",
       "        vertical-align: middle;\n",
       "    }\n",
       "\n",
       "    .dataframe tbody tr th {\n",
       "        vertical-align: top;\n",
       "    }\n",
       "\n",
       "    .dataframe thead th {\n",
       "        text-align: right;\n",
       "    }\n",
       "</style>\n",
       "<table border=\"1\" class=\"dataframe\">\n",
       "  <thead>\n",
       "    <tr style=\"text-align: right;\">\n",
       "      <th></th>\n",
       "      <th>index</th>\n",
       "      <th>0</th>\n",
       "    </tr>\n",
       "  </thead>\n",
       "  <tbody>\n",
       "    <tr>\n",
       "      <th>0</th>\n",
       "      <td>Python</td>\n",
       "      <td>2465</td>\n",
       "    </tr>\n",
       "    <tr>\n",
       "      <th>1</th>\n",
       "      <td>SQL</td>\n",
       "      <td>1866</td>\n",
       "    </tr>\n",
       "    <tr>\n",
       "      <th>2</th>\n",
       "      <td>R</td>\n",
       "      <td>928</td>\n",
       "    </tr>\n",
       "    <tr>\n",
       "      <th>3</th>\n",
       "      <td>Javascript</td>\n",
       "      <td>327</td>\n",
       "    </tr>\n",
       "    <tr>\n",
       "      <th>4</th>\n",
       "      <td>Java</td>\n",
       "      <td>300</td>\n",
       "    </tr>\n",
       "  </tbody>\n",
       "</table>\n",
       "</div>"
      ],
      "text/plain": [
       "        index     0\n",
       "0      Python  2465\n",
       "1         SQL  1866\n",
       "2           R   928\n",
       "3  Javascript   327\n",
       "4        Java   300"
      ]
     },
     "execution_count": 19,
     "metadata": {},
     "output_type": "execute_result"
    }
   ],
   "source": [
    "df_top5 = df_conteo_lenguajes.sum().sort_values(ascending = False).iloc[:5].reset_index()\n",
    "df_top5"
   ]
  },
  {
   "cell_type": "code",
   "execution_count": 45,
   "metadata": {},
   "outputs": [
    {
     "data": {
      "image/png": "[encoded data removed]",
      "text/plain": [
       "<Figure size 648x360 with 1 Axes>"
      ]
     },
     "metadata": {
      "needs_background": "light"
     },
     "output_type": "display_data"
    }
   ],
   "source": [
    "plt.figure(figsize = (9, 5))\n",
    "\n",
    "fig = sns.barplot(x = 0 , y = 'index', data = df_top5)\n",
    "fig.set(xlabel = 'Conteo', ylabel = 'Lenguajes de Programación')\n",
    "\n",
    "fig.set_title('Top 5 de Lenguajes de Programación');"
   ]
  },
  {
   "cell_type": "markdown",
   "metadata": {},
   "source": [
    "- Gráfica 3 ¿Dónde se está contratando a más gente de Business/Data? Ubicar España dentro de ese mercado de contratación."
   ]
  },
  {
   "cell_type": "code",
   "execution_count": 126,
   "metadata": {},
   "outputs": [
    {
     "data": {
      "text/html": [
       "<div>\n",
       "<style scoped>\n",
       "    .dataframe tbody tr th:only-of-type {\n",
       "        vertical-align: middle;\n",
       "    }\n",
       "\n",
       "    .dataframe tbody tr th {\n",
       "        vertical-align: top;\n",
       "    }\n",
       "\n",
       "    .dataframe thead th {\n",
       "        text-align: right;\n",
       "    }\n",
       "</style>\n",
       "<table border=\"1\" class=\"dataframe\">\n",
       "  <thead>\n",
       "    <tr style=\"text-align: right;\">\n",
       "      <th></th>\n",
       "      <th>index</th>\n",
       "      <th>paises</th>\n",
       "    </tr>\n",
       "  </thead>\n",
       "  <tbody>\n",
       "    <tr>\n",
       "      <th>0</th>\n",
       "      <td>India</td>\n",
       "      <td>795</td>\n",
       "    </tr>\n",
       "    <tr>\n",
       "      <th>1</th>\n",
       "      <td>United States of America</td>\n",
       "      <td>367</td>\n",
       "    </tr>\n",
       "    <tr>\n",
       "      <th>3</th>\n",
       "      <td>Nigeria</td>\n",
       "      <td>132</td>\n",
       "    </tr>\n",
       "    <tr>\n",
       "      <th>4</th>\n",
       "      <td>China</td>\n",
       "      <td>121</td>\n",
       "    </tr>\n",
       "    <tr>\n",
       "      <th>5</th>\n",
       "      <td>Brazil</td>\n",
       "      <td>110</td>\n",
       "    </tr>\n",
       "    <tr>\n",
       "      <th>6</th>\n",
       "      <td>Russia</td>\n",
       "      <td>108</td>\n",
       "    </tr>\n",
       "    <tr>\n",
       "      <th>7</th>\n",
       "      <td>Egypt</td>\n",
       "      <td>101</td>\n",
       "    </tr>\n",
       "    <tr>\n",
       "      <th>8</th>\n",
       "      <td>Japan</td>\n",
       "      <td>84</td>\n",
       "    </tr>\n",
       "    <tr>\n",
       "      <th>9</th>\n",
       "      <td>United Kingdom of Great Britain and Northern I...</td>\n",
       "      <td>77</td>\n",
       "    </tr>\n",
       "    <tr>\n",
       "      <th>10</th>\n",
       "      <td>Indonesia</td>\n",
       "      <td>60</td>\n",
       "    </tr>\n",
       "    <tr>\n",
       "      <th>11</th>\n",
       "      <td>Pakistan</td>\n",
       "      <td>50</td>\n",
       "    </tr>\n",
       "    <tr>\n",
       "      <th>12</th>\n",
       "      <td>Canada</td>\n",
       "      <td>49</td>\n",
       "    </tr>\n",
       "    <tr>\n",
       "      <th>13</th>\n",
       "      <td>Australia</td>\n",
       "      <td>49</td>\n",
       "    </tr>\n",
       "    <tr>\n",
       "      <th>14</th>\n",
       "      <td>Mexico</td>\n",
       "      <td>49</td>\n",
       "    </tr>\n",
       "    <tr>\n",
       "      <th>15</th>\n",
       "      <td>Kenya</td>\n",
       "      <td>48</td>\n",
       "    </tr>\n",
       "    <tr>\n",
       "      <th>16</th>\n",
       "      <td>Spain</td>\n",
       "      <td>48</td>\n",
       "    </tr>\n",
       "  </tbody>\n",
       "</table>\n",
       "</div>"
      ],
      "text/plain": [
       "                                                index  paises\n",
       "0                                               India     795\n",
       "1                            United States of America     367\n",
       "3                                             Nigeria     132\n",
       "4                                               China     121\n",
       "5                                              Brazil     110\n",
       "6                                              Russia     108\n",
       "7                                               Egypt     101\n",
       "8                                               Japan      84\n",
       "9   United Kingdom of Great Britain and Northern I...      77\n",
       "10                                          Indonesia      60\n",
       "11                                           Pakistan      50\n",
       "12                                             Canada      49\n",
       "13                                          Australia      49\n",
       "14                                             Mexico      49\n",
       "15                                              Kenya      48\n",
       "16                                              Spain      48"
      ]
     },
     "execution_count": 126,
     "metadata": {},
     "output_type": "execute_result"
    }
   ],
   "source": [
    "df_paises = df[\"paises\"].value_counts().iloc[:17].reset_index()\n",
    "df_paises = df_paises[df_paises[\"index\"] != 'Other']\n",
    "df_paises"
   ]
  },
  {
   "cell_type": "code",
   "execution_count": 127,
   "metadata": {},
   "outputs": [
    {
     "data": {
      "image/png": "[encoded data removed]",
      "text/plain": [
       "<Figure size 720x648 with 1 Axes>"
      ]
     },
     "metadata": {
      "needs_background": "light"
     },
     "output_type": "display_data"
    }
   ],
   "source": [
    "plt.figure(figsize =(10, 9))\n",
    "\n",
    "fig = sns.barplot(x = 'paises', y = 'index', data = df_paises)\n",
    "fig.set(xlabel = 'index', ylabel = 'Países')\n",
    "\n",
    "fig.set_title('');"
   ]
  },
  {
   "cell_type": "markdown",
   "metadata": {},
   "source": [
    "- Gráfica 4: tamaño_empresa con brecha género."
   ]
  },
  {
   "cell_type": "code",
   "execution_count": 81,
   "metadata": {},
   "outputs": [
    {
     "ename": "ValueError",
     "evalue": "Could not interpret input 'tamaño_empresa'",
     "output_type": "error",
     "traceback": [
      "\u001b[0;31m---------------------------------------------------------------------------\u001b[0m",
      "\u001b[0;31mValueError\u001b[0m                                Traceback (most recent call last)",
      "\u001b[0;32m/var/folders/fr/wg652zl15fv6svll64p1m7380000gn/T/ipykernel_2273/2870946872.py\u001b[0m in \u001b[0;36m<module>\u001b[0;34m\u001b[0m\n\u001b[1;32m      1\u001b[0m \u001b[0mplt\u001b[0m\u001b[0;34m.\u001b[0m\u001b[0mfigure\u001b[0m\u001b[0;34m(\u001b[0m\u001b[0mfigsize\u001b[0m \u001b[0;34m=\u001b[0m\u001b[0;34m(\u001b[0m\u001b[0;36m10\u001b[0m\u001b[0;34m,\u001b[0m\u001b[0;36m7\u001b[0m\u001b[0;34m)\u001b[0m\u001b[0;34m)\u001b[0m\u001b[0;34m\u001b[0m\u001b[0;34m\u001b[0m\u001b[0m\n\u001b[1;32m      2\u001b[0m \u001b[0;34m\u001b[0m\u001b[0m\n\u001b[0;32m----> 3\u001b[0;31m \u001b[0mfig\u001b[0m \u001b[0;34m=\u001b[0m \u001b[0msns\u001b[0m\u001b[0;34m.\u001b[0m\u001b[0mcountplot\u001b[0m\u001b[0;34m(\u001b[0m\u001b[0mx\u001b[0m \u001b[0;34m=\u001b[0m \u001b[0;34m'tamaño_empresa'\u001b[0m\u001b[0;34m,\u001b[0m \u001b[0mdata\u001b[0m \u001b[0;34m=\u001b[0m \u001b[0mdf_genero\u001b[0m\u001b[0;34m,\u001b[0m \u001b[0mhue\u001b[0m \u001b[0;34m=\u001b[0m \u001b[0;34m'edades'\u001b[0m\u001b[0;34m)\u001b[0m\u001b[0;34m\u001b[0m\u001b[0;34m\u001b[0m\u001b[0m\n\u001b[0m\u001b[1;32m      4\u001b[0m \u001b[0mfig\u001b[0m\u001b[0;34m.\u001b[0m\u001b[0mset\u001b[0m\u001b[0;34m(\u001b[0m \u001b[0mxlabel\u001b[0m \u001b[0;34m=\u001b[0m \u001b[0;34m'Género'\u001b[0m\u001b[0;34m,\u001b[0m \u001b[0mylabel\u001b[0m \u001b[0;34m=\u001b[0m \u001b[0;34m'Tamaño de la empresa'\u001b[0m\u001b[0;34m)\u001b[0m\u001b[0;34m\u001b[0m\u001b[0;34m\u001b[0m\u001b[0m\n\u001b[1;32m      5\u001b[0m \u001b[0;34m\u001b[0m\u001b[0m\n",
      "\u001b[0;32m/opt/anaconda3/lib/python3.9/site-packages/seaborn/_decorators.py\u001b[0m in \u001b[0;36minner_f\u001b[0;34m(*args, **kwargs)\u001b[0m\n\u001b[1;32m     44\u001b[0m             )\n\u001b[1;32m     45\u001b[0m         \u001b[0mkwargs\u001b[0m\u001b[0;34m.\u001b[0m\u001b[0mupdate\u001b[0m\u001b[0;34m(\u001b[0m\u001b[0;34m{\u001b[0m\u001b[0mk\u001b[0m\u001b[0;34m:\u001b[0m \u001b[0marg\u001b[0m \u001b[0;32mfor\u001b[0m \u001b[0mk\u001b[0m\u001b[0;34m,\u001b[0m \u001b[0marg\u001b[0m \u001b[0;32min\u001b[0m \u001b[0mzip\u001b[0m\u001b[0;34m(\u001b[0m\u001b[0msig\u001b[0m\u001b[0;34m.\u001b[0m\u001b[0mparameters\u001b[0m\u001b[0;34m,\u001b[0m \u001b[0margs\u001b[0m\u001b[0;34m)\u001b[0m\u001b[0;34m}\u001b[0m\u001b[0;34m)\u001b[0m\u001b[0;34m\u001b[0m\u001b[0;34m\u001b[0m\u001b[0m\n\u001b[0;32m---> 46\u001b[0;31m         \u001b[0;32mreturn\u001b[0m \u001b[0mf\u001b[0m\u001b[0;34m(\u001b[0m\u001b[0;34m**\u001b[0m\u001b[0mkwargs\u001b[0m\u001b[0;34m)\u001b[0m\u001b[0;34m\u001b[0m\u001b[0;34m\u001b[0m\u001b[0m\n\u001b[0m\u001b[1;32m     47\u001b[0m     \u001b[0;32mreturn\u001b[0m \u001b[0minner_f\u001b[0m\u001b[0;34m\u001b[0m\u001b[0;34m\u001b[0m\u001b[0m\n\u001b[1;32m     48\u001b[0m \u001b[0;34m\u001b[0m\u001b[0m\n",
      "\u001b[0;32m/opt/anaconda3/lib/python3.9/site-packages/seaborn/categorical.py\u001b[0m in \u001b[0;36mcountplot\u001b[0;34m(x, y, hue, data, order, hue_order, orient, color, palette, saturation, dodge, ax, **kwargs)\u001b[0m\n\u001b[1;32m   3596\u001b[0m         \u001b[0;32mraise\u001b[0m \u001b[0mValueError\u001b[0m\u001b[0;34m(\u001b[0m\u001b[0;34m\"Cannot pass values for both `x` and `y`\"\u001b[0m\u001b[0;34m)\u001b[0m\u001b[0;34m\u001b[0m\u001b[0;34m\u001b[0m\u001b[0m\n\u001b[1;32m   3597\u001b[0m \u001b[0;34m\u001b[0m\u001b[0m\n\u001b[0;32m-> 3598\u001b[0;31m     plotter = _CountPlotter(\n\u001b[0m\u001b[1;32m   3599\u001b[0m         \u001b[0mx\u001b[0m\u001b[0;34m,\u001b[0m \u001b[0my\u001b[0m\u001b[0;34m,\u001b[0m \u001b[0mhue\u001b[0m\u001b[0;34m,\u001b[0m \u001b[0mdata\u001b[0m\u001b[0;34m,\u001b[0m \u001b[0morder\u001b[0m\u001b[0;34m,\u001b[0m \u001b[0mhue_order\u001b[0m\u001b[0;34m,\u001b[0m\u001b[0;34m\u001b[0m\u001b[0;34m\u001b[0m\u001b[0m\n\u001b[1;32m   3600\u001b[0m         \u001b[0mestimator\u001b[0m\u001b[0;34m,\u001b[0m \u001b[0mci\u001b[0m\u001b[0;34m,\u001b[0m \u001b[0mn_boot\u001b[0m\u001b[0;34m,\u001b[0m \u001b[0munits\u001b[0m\u001b[0;34m,\u001b[0m \u001b[0mseed\u001b[0m\u001b[0;34m,\u001b[0m\u001b[0;34m\u001b[0m\u001b[0;34m\u001b[0m\u001b[0m\n",
      "\u001b[0;32m/opt/anaconda3/lib/python3.9/site-packages/seaborn/categorical.py\u001b[0m in \u001b[0;36m__init__\u001b[0;34m(self, x, y, hue, data, order, hue_order, estimator, ci, n_boot, units, seed, orient, color, palette, saturation, errcolor, errwidth, capsize, dodge)\u001b[0m\n\u001b[1;32m   1582\u001b[0m                  errwidth, capsize, dodge):\n\u001b[1;32m   1583\u001b[0m         \u001b[0;34m\"\"\"Initialize the plotter.\"\"\"\u001b[0m\u001b[0;34m\u001b[0m\u001b[0;34m\u001b[0m\u001b[0m\n\u001b[0;32m-> 1584\u001b[0;31m         self.establish_variables(x, y, hue, data, orient,\n\u001b[0m\u001b[1;32m   1585\u001b[0m                                  order, hue_order, units)\n\u001b[1;32m   1586\u001b[0m         \u001b[0mself\u001b[0m\u001b[0;34m.\u001b[0m\u001b[0mestablish_colors\u001b[0m\u001b[0;34m(\u001b[0m\u001b[0mcolor\u001b[0m\u001b[0;34m,\u001b[0m \u001b[0mpalette\u001b[0m\u001b[0;34m,\u001b[0m \u001b[0msaturation\u001b[0m\u001b[0;34m)\u001b[0m\u001b[0;34m\u001b[0m\u001b[0;34m\u001b[0m\u001b[0m\n",
      "\u001b[0;32m/opt/anaconda3/lib/python3.9/site-packages/seaborn/categorical.py\u001b[0m in \u001b[0;36mestablish_variables\u001b[0;34m(self, x, y, hue, data, orient, order, hue_order, units)\u001b[0m\n\u001b[1;32m    151\u001b[0m                 \u001b[0;32mif\u001b[0m \u001b[0misinstance\u001b[0m\u001b[0;34m(\u001b[0m\u001b[0mvar\u001b[0m\u001b[0;34m,\u001b[0m \u001b[0mstr\u001b[0m\u001b[0;34m)\u001b[0m\u001b[0;34m:\u001b[0m\u001b[0;34m\u001b[0m\u001b[0;34m\u001b[0m\u001b[0m\n\u001b[1;32m    152\u001b[0m                     \u001b[0merr\u001b[0m \u001b[0;34m=\u001b[0m \u001b[0;34m\"Could not interpret input '{}'\"\u001b[0m\u001b[0;34m.\u001b[0m\u001b[0mformat\u001b[0m\u001b[0;34m(\u001b[0m\u001b[0mvar\u001b[0m\u001b[0;34m)\u001b[0m\u001b[0;34m\u001b[0m\u001b[0;34m\u001b[0m\u001b[0m\n\u001b[0;32m--> 153\u001b[0;31m                     \u001b[0;32mraise\u001b[0m \u001b[0mValueError\u001b[0m\u001b[0;34m(\u001b[0m\u001b[0merr\u001b[0m\u001b[0;34m)\u001b[0m\u001b[0;34m\u001b[0m\u001b[0;34m\u001b[0m\u001b[0m\n\u001b[0m\u001b[1;32m    154\u001b[0m \u001b[0;34m\u001b[0m\u001b[0m\n\u001b[1;32m    155\u001b[0m             \u001b[0;31m# Figure out the plotting orientation\u001b[0m\u001b[0;34m\u001b[0m\u001b[0;34m\u001b[0m\u001b[0m\n",
      "\u001b[0;31mValueError\u001b[0m: Could not interpret input 'tamaño_empresa'"
     ]
    },
    {
     "data": {
      "text/plain": [
       "<Figure size 720x504 with 0 Axes>"
      ]
     },
     "metadata": {},
     "output_type": "display_data"
    }
   ],
   "source": []
  },
  {
   "cell_type": "markdown",
   "metadata": {},
   "source": [
    "- Gráfica 5: sector laboral con empresas (qué sector contrata a más bussines o data para que adalab enfoque sus proyectos en este sector)\n"
   ]
  },
  {
   "cell_type": "code",
   "execution_count": null,
   "metadata": {},
   "outputs": [],
   "source": []
  },
  {
   "cell_type": "markdown",
   "metadata": {},
   "source": [
    "\n",
    "- Gráfica 6: Salarios y género: buena pregunta."
   ]
  },
  {
   "cell_type": "code",
   "execution_count": null,
   "metadata": {},
   "outputs": [],
   "source": []
  }
 ],
 "metadata": {
  "kernelspec": {
   "display_name": "base",
   "language": "python",
   "name": "python3"
  },
  "language_info": {
   "codemirror_mode": {
    "name": "ipython",
    "version": 3
   },
   "file_extension": ".py",
   "mimetype": "text/x-python",
   "name": "python",
   "nbconvert_exporter": "python",
   "pygments_lexer": "ipython3",
   "version": "3.9.7"
  },
  "orig_nbformat": 4
 },
 "nbformat": 4,
 "nbformat_minor": 2
}
